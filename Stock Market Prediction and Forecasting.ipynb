{
 "cells": [
  {
   "cell_type": "code",
   "execution_count": 1,
   "metadata": {},
   "outputs": [],
   "source": [
    "# Imports\n",
    "import pandas as pd\n",
    "import pandas_datareader as pdr\n",
    "import matplotlib.pyplot as plt\n",
    "import numpy as np\n",
    "\n",
    "from tiingo import TiingoClient\n",
    "from sklearn.preprocessing import MinMaxScaler\n",
    "\n",
    "import tensorflow as tf\n",
    "from tensorflow.keras.models import Sequential\n",
    "from tensorflow.keras.layers import Dense\n",
    "from tensorflow.keras.layers import LSTM\n",
    "\n",
    "import math\n",
    "from numpy import array\n",
    "from sklearn.metrics import mean_squared_error"
   ]
  },
  {
   "cell_type": "code",
   "execution_count": 2,
   "metadata": {},
   "outputs": [],
   "source": [
    "# Get RealTime data\n",
    "\n",
    "config = {}\n",
    "config['session'] = True\n",
    "config['api_key'] = \"fde0de34a597024753ba4740d038106ed7b2f556\"\n",
    "\n",
    "client = TiingoClient(config)"
   ]
  },
  {
   "cell_type": "code",
   "execution_count": 3,
   "metadata": {},
   "outputs": [
    {
     "name": "stderr",
     "output_type": "stream",
     "text": [
      "/home/spielerin/.local/lib/python3.8/site-packages/pandas_datareader/tiingo.py:234: FutureWarning: In a future version of pandas all arguments of concat except for the argument 'objs' will be keyword-only\n",
      "  return pd.concat(dfs, self._concat_axis)\n"
     ]
    }
   ],
   "source": [
    "# Accesing desired data\n",
    "\n",
    "dataset = client.get_ticker_metadata(\"AAPl\")\n",
    "\n",
    "df = pdr.get_data_tiingo('AAPL',api_key='fde0de34a597024753ba4740d038106ed7b2f556')"
   ]
  },
  {
   "cell_type": "code",
   "execution_count": 4,
   "metadata": {},
   "outputs": [
    {
     "data": {
      "text/html": [
       "<div>\n",
       "<style scoped>\n",
       "    .dataframe tbody tr th:only-of-type {\n",
       "        vertical-align: middle;\n",
       "    }\n",
       "\n",
       "    .dataframe tbody tr th {\n",
       "        vertical-align: top;\n",
       "    }\n",
       "\n",
       "    .dataframe thead th {\n",
       "        text-align: right;\n",
       "    }\n",
       "</style>\n",
       "<table border=\"1\" class=\"dataframe\">\n",
       "  <thead>\n",
       "    <tr style=\"text-align: right;\">\n",
       "      <th></th>\n",
       "      <th>symbol</th>\n",
       "      <th>date</th>\n",
       "      <th>close</th>\n",
       "      <th>high</th>\n",
       "      <th>low</th>\n",
       "      <th>open</th>\n",
       "      <th>volume</th>\n",
       "      <th>adjClose</th>\n",
       "      <th>adjHigh</th>\n",
       "      <th>adjLow</th>\n",
       "      <th>adjOpen</th>\n",
       "      <th>adjVolume</th>\n",
       "      <th>divCash</th>\n",
       "      <th>splitFactor</th>\n",
       "    </tr>\n",
       "  </thead>\n",
       "  <tbody>\n",
       "    <tr>\n",
       "      <th>0</th>\n",
       "      <td>AAPL</td>\n",
       "      <td>2017-01-06 00:00:00+00:00</td>\n",
       "      <td>117.91</td>\n",
       "      <td>118.16</td>\n",
       "      <td>116.47</td>\n",
       "      <td>116.780</td>\n",
       "      <td>31751900</td>\n",
       "      <td>27.743303</td>\n",
       "      <td>27.802126</td>\n",
       "      <td>27.404482</td>\n",
       "      <td>27.477423</td>\n",
       "      <td>127007600</td>\n",
       "      <td>0.0</td>\n",
       "      <td>1.0</td>\n",
       "    </tr>\n",
       "    <tr>\n",
       "      <th>1</th>\n",
       "      <td>AAPL</td>\n",
       "      <td>2017-01-09 00:00:00+00:00</td>\n",
       "      <td>118.99</td>\n",
       "      <td>119.43</td>\n",
       "      <td>117.94</td>\n",
       "      <td>117.950</td>\n",
       "      <td>33561948</td>\n",
       "      <td>27.997418</td>\n",
       "      <td>28.100947</td>\n",
       "      <td>27.750362</td>\n",
       "      <td>27.752715</td>\n",
       "      <td>134247792</td>\n",
       "      <td>0.0</td>\n",
       "      <td>1.0</td>\n",
       "    </tr>\n",
       "    <tr>\n",
       "      <th>2</th>\n",
       "      <td>AAPL</td>\n",
       "      <td>2017-01-10 00:00:00+00:00</td>\n",
       "      <td>119.11</td>\n",
       "      <td>119.38</td>\n",
       "      <td>118.30</td>\n",
       "      <td>118.770</td>\n",
       "      <td>24462051</td>\n",
       "      <td>28.025654</td>\n",
       "      <td>28.089182</td>\n",
       "      <td>27.835067</td>\n",
       "      <td>27.945654</td>\n",
       "      <td>97848204</td>\n",
       "      <td>0.0</td>\n",
       "      <td>1.0</td>\n",
       "    </tr>\n",
       "    <tr>\n",
       "      <th>3</th>\n",
       "      <td>AAPL</td>\n",
       "      <td>2017-01-11 00:00:00+00:00</td>\n",
       "      <td>119.75</td>\n",
       "      <td>119.93</td>\n",
       "      <td>118.60</td>\n",
       "      <td>118.740</td>\n",
       "      <td>27588593</td>\n",
       "      <td>28.176241</td>\n",
       "      <td>28.218593</td>\n",
       "      <td>27.905655</td>\n",
       "      <td>27.938595</td>\n",
       "      <td>110354372</td>\n",
       "      <td>0.0</td>\n",
       "      <td>1.0</td>\n",
       "    </tr>\n",
       "    <tr>\n",
       "      <th>4</th>\n",
       "      <td>AAPL</td>\n",
       "      <td>2017-01-12 00:00:00+00:00</td>\n",
       "      <td>119.25</td>\n",
       "      <td>119.30</td>\n",
       "      <td>118.21</td>\n",
       "      <td>118.895</td>\n",
       "      <td>27086220</td>\n",
       "      <td>28.058594</td>\n",
       "      <td>28.070359</td>\n",
       "      <td>27.813891</td>\n",
       "      <td>27.975066</td>\n",
       "      <td>108344880</td>\n",
       "      <td>0.0</td>\n",
       "      <td>1.0</td>\n",
       "    </tr>\n",
       "  </tbody>\n",
       "</table>\n",
       "</div>"
      ],
      "text/plain": [
       "  symbol                       date   close    high     low     open  \\\n",
       "0   AAPL  2017-01-06 00:00:00+00:00  117.91  118.16  116.47  116.780   \n",
       "1   AAPL  2017-01-09 00:00:00+00:00  118.99  119.43  117.94  117.950   \n",
       "2   AAPL  2017-01-10 00:00:00+00:00  119.11  119.38  118.30  118.770   \n",
       "3   AAPL  2017-01-11 00:00:00+00:00  119.75  119.93  118.60  118.740   \n",
       "4   AAPL  2017-01-12 00:00:00+00:00  119.25  119.30  118.21  118.895   \n",
       "\n",
       "     volume   adjClose    adjHigh     adjLow    adjOpen  adjVolume  divCash  \\\n",
       "0  31751900  27.743303  27.802126  27.404482  27.477423  127007600      0.0   \n",
       "1  33561948  27.997418  28.100947  27.750362  27.752715  134247792      0.0   \n",
       "2  24462051  28.025654  28.089182  27.835067  27.945654   97848204      0.0   \n",
       "3  27588593  28.176241  28.218593  27.905655  27.938595  110354372      0.0   \n",
       "4  27086220  28.058594  28.070359  27.813891  27.975066  108344880      0.0   \n",
       "\n",
       "   splitFactor  \n",
       "0          1.0  \n",
       "1          1.0  \n",
       "2          1.0  \n",
       "3          1.0  \n",
       "4          1.0  "
      ]
     },
     "execution_count": 4,
     "metadata": {},
     "output_type": "execute_result"
    }
   ],
   "source": [
    "data = df.to_csv('AAPL.csv')\n",
    "df=pd.read_csv('AAPL.csv')\n",
    "df.head()"
   ]
  },
  {
   "cell_type": "code",
   "execution_count": 5,
   "metadata": {},
   "outputs": [
    {
     "data": {
      "text/plain": [
       "(1258, 14)"
      ]
     },
     "execution_count": 5,
     "metadata": {},
     "output_type": "execute_result"
    }
   ],
   "source": [
    "df.shape"
   ]
  },
  {
   "cell_type": "code",
   "execution_count": 6,
   "metadata": {},
   "outputs": [
    {
     "data": {
      "text/html": [
       "<div>\n",
       "<style scoped>\n",
       "    .dataframe tbody tr th:only-of-type {\n",
       "        vertical-align: middle;\n",
       "    }\n",
       "\n",
       "    .dataframe tbody tr th {\n",
       "        vertical-align: top;\n",
       "    }\n",
       "\n",
       "    .dataframe thead th {\n",
       "        text-align: right;\n",
       "    }\n",
       "</style>\n",
       "<table border=\"1\" class=\"dataframe\">\n",
       "  <thead>\n",
       "    <tr style=\"text-align: right;\">\n",
       "      <th></th>\n",
       "      <th>symbol</th>\n",
       "      <th>date</th>\n",
       "      <th>close</th>\n",
       "      <th>high</th>\n",
       "      <th>low</th>\n",
       "      <th>open</th>\n",
       "      <th>volume</th>\n",
       "      <th>adjClose</th>\n",
       "      <th>adjHigh</th>\n",
       "      <th>adjLow</th>\n",
       "      <th>adjOpen</th>\n",
       "      <th>adjVolume</th>\n",
       "      <th>divCash</th>\n",
       "      <th>splitFactor</th>\n",
       "    </tr>\n",
       "  </thead>\n",
       "  <tbody>\n",
       "    <tr>\n",
       "      <th>1253</th>\n",
       "      <td>AAPL</td>\n",
       "      <td>2021-12-29 00:00:00+00:00</td>\n",
       "      <td>179.38</td>\n",
       "      <td>180.63</td>\n",
       "      <td>178.14</td>\n",
       "      <td>179.330</td>\n",
       "      <td>62348931</td>\n",
       "      <td>179.38</td>\n",
       "      <td>180.63</td>\n",
       "      <td>178.14</td>\n",
       "      <td>179.330</td>\n",
       "      <td>62348931</td>\n",
       "      <td>0.0</td>\n",
       "      <td>1.0</td>\n",
       "    </tr>\n",
       "    <tr>\n",
       "      <th>1254</th>\n",
       "      <td>AAPL</td>\n",
       "      <td>2021-12-30 00:00:00+00:00</td>\n",
       "      <td>178.20</td>\n",
       "      <td>180.57</td>\n",
       "      <td>178.09</td>\n",
       "      <td>179.470</td>\n",
       "      <td>59773014</td>\n",
       "      <td>178.20</td>\n",
       "      <td>180.57</td>\n",
       "      <td>178.09</td>\n",
       "      <td>179.470</td>\n",
       "      <td>59773014</td>\n",
       "      <td>0.0</td>\n",
       "      <td>1.0</td>\n",
       "    </tr>\n",
       "    <tr>\n",
       "      <th>1255</th>\n",
       "      <td>AAPL</td>\n",
       "      <td>2021-12-31 00:00:00+00:00</td>\n",
       "      <td>177.57</td>\n",
       "      <td>179.23</td>\n",
       "      <td>177.26</td>\n",
       "      <td>178.085</td>\n",
       "      <td>61661433</td>\n",
       "      <td>177.57</td>\n",
       "      <td>179.23</td>\n",
       "      <td>177.26</td>\n",
       "      <td>178.085</td>\n",
       "      <td>61661433</td>\n",
       "      <td>0.0</td>\n",
       "      <td>1.0</td>\n",
       "    </tr>\n",
       "    <tr>\n",
       "      <th>1256</th>\n",
       "      <td>AAPL</td>\n",
       "      <td>2022-01-03 00:00:00+00:00</td>\n",
       "      <td>182.01</td>\n",
       "      <td>182.88</td>\n",
       "      <td>177.71</td>\n",
       "      <td>177.830</td>\n",
       "      <td>104701220</td>\n",
       "      <td>182.01</td>\n",
       "      <td>182.88</td>\n",
       "      <td>177.71</td>\n",
       "      <td>177.830</td>\n",
       "      <td>104701220</td>\n",
       "      <td>0.0</td>\n",
       "      <td>1.0</td>\n",
       "    </tr>\n",
       "    <tr>\n",
       "      <th>1257</th>\n",
       "      <td>AAPL</td>\n",
       "      <td>2022-01-04 00:00:00+00:00</td>\n",
       "      <td>179.70</td>\n",
       "      <td>182.94</td>\n",
       "      <td>179.12</td>\n",
       "      <td>182.630</td>\n",
       "      <td>99310438</td>\n",
       "      <td>179.70</td>\n",
       "      <td>182.94</td>\n",
       "      <td>179.12</td>\n",
       "      <td>182.630</td>\n",
       "      <td>99310438</td>\n",
       "      <td>0.0</td>\n",
       "      <td>1.0</td>\n",
       "    </tr>\n",
       "  </tbody>\n",
       "</table>\n",
       "</div>"
      ],
      "text/plain": [
       "     symbol                       date   close    high     low     open  \\\n",
       "1253   AAPL  2021-12-29 00:00:00+00:00  179.38  180.63  178.14  179.330   \n",
       "1254   AAPL  2021-12-30 00:00:00+00:00  178.20  180.57  178.09  179.470   \n",
       "1255   AAPL  2021-12-31 00:00:00+00:00  177.57  179.23  177.26  178.085   \n",
       "1256   AAPL  2022-01-03 00:00:00+00:00  182.01  182.88  177.71  177.830   \n",
       "1257   AAPL  2022-01-04 00:00:00+00:00  179.70  182.94  179.12  182.630   \n",
       "\n",
       "         volume  adjClose  adjHigh  adjLow  adjOpen  adjVolume  divCash  \\\n",
       "1253   62348931    179.38   180.63  178.14  179.330   62348931      0.0   \n",
       "1254   59773014    178.20   180.57  178.09  179.470   59773014      0.0   \n",
       "1255   61661433    177.57   179.23  177.26  178.085   61661433      0.0   \n",
       "1256  104701220    182.01   182.88  177.71  177.830  104701220      0.0   \n",
       "1257   99310438    179.70   182.94  179.12  182.630   99310438      0.0   \n",
       "\n",
       "      splitFactor  \n",
       "1253          1.0  \n",
       "1254          1.0  \n",
       "1255          1.0  \n",
       "1256          1.0  \n",
       "1257          1.0  "
      ]
     },
     "execution_count": 6,
     "metadata": {},
     "output_type": "execute_result"
    }
   ],
   "source": [
    "df.tail()"
   ]
  },
  {
   "cell_type": "code",
   "execution_count": 7,
   "metadata": {},
   "outputs": [
    {
     "data": {
      "text/plain": [
       "(1258,)"
      ]
     },
     "execution_count": 7,
     "metadata": {},
     "output_type": "execute_result"
    }
   ],
   "source": [
    "df1 = df.reset_index()['close']\n",
    "df1.shape"
   ]
  },
  {
   "cell_type": "code",
   "execution_count": 8,
   "metadata": {},
   "outputs": [
    {
     "data": {
      "text/plain": [
       "0       117.91\n",
       "1       118.99\n",
       "2       119.11\n",
       "3       119.75\n",
       "4       119.25\n",
       "         ...  \n",
       "1253    179.38\n",
       "1254    178.20\n",
       "1255    177.57\n",
       "1256    182.01\n",
       "1257    179.70\n",
       "Name: close, Length: 1258, dtype: float64"
      ]
     },
     "execution_count": 8,
     "metadata": {},
     "output_type": "execute_result"
    }
   ],
   "source": [
    "df1"
   ]
  },
  {
   "cell_type": "code",
   "execution_count": 9,
   "metadata": {},
   "outputs": [
    {
     "data": {
      "text/plain": [
       "1228    161.02\n",
       "1229    161.41\n",
       "1230    161.94\n",
       "1231    156.81\n",
       "1232    160.24\n",
       "1233    165.30\n",
       "1234    164.77\n",
       "1235    163.76\n",
       "1236    161.84\n",
       "1237    165.32\n",
       "1238    171.18\n",
       "1239    175.08\n",
       "1240    174.56\n",
       "1241    179.45\n",
       "1242    175.74\n",
       "1243    174.33\n",
       "1244    179.30\n",
       "1245    172.26\n",
       "1246    171.14\n",
       "1247    169.75\n",
       "1248    172.99\n",
       "1249    175.64\n",
       "1250    176.28\n",
       "1251    180.33\n",
       "1252    179.29\n",
       "1253    179.38\n",
       "1254    178.20\n",
       "1255    177.57\n",
       "1256    182.01\n",
       "1257    179.70\n",
       "Name: close, dtype: float64"
      ]
     },
     "execution_count": 9,
     "metadata": {},
     "output_type": "execute_result"
    }
   ],
   "source": [
    "df1[1228:]"
   ]
  },
  {
   "cell_type": "code",
   "execution_count": 10,
   "metadata": {},
   "outputs": [
    {
     "data": {
      "text/plain": [
       "(1258,)"
      ]
     },
     "execution_count": 10,
     "metadata": {},
     "output_type": "execute_result"
    }
   ],
   "source": [
    "df1.shape"
   ]
  },
  {
   "cell_type": "code",
   "execution_count": 11,
   "metadata": {},
   "outputs": [
    {
     "data": {
      "text/plain": [
       "[<matplotlib.lines.Line2D at 0x7f6c163686a0>]"
      ]
     },
     "execution_count": 11,
     "metadata": {},
     "output_type": "execute_result"
    },
    {
     "data": {
      "image/png": "[encoded data removed]",
      "text/plain": [
       "<Figure size 432x288 with 1 Axes>"
      ]
     },
     "metadata": {
      "needs_background": "light"
     },
     "output_type": "display_data"
    }
   ],
   "source": [
    "plt.plot(df1)"
   ]
  },
  {
   "cell_type": "code",
   "execution_count": 12,
   "metadata": {},
   "outputs": [],
   "source": [
    "scaler=MinMaxScaler(feature_range=(0,1))\n",
    "df1=scaler.fit_transform(np.array(df1).reshape(-1,1))"
   ]
  },
  {
   "cell_type": "code",
   "execution_count": 13,
   "metadata": {},
   "outputs": [
    {
     "data": {
      "text/plain": [
       "array([[0.02772699],\n",
       "       [0.03043206],\n",
       "       [0.03073262],\n",
       "       ...,\n",
       "       [0.17715717],\n",
       "       [0.18827802],\n",
       "       [0.18249217]])"
      ]
     },
     "execution_count": 13,
     "metadata": {},
     "output_type": "execute_result"
    }
   ],
   "source": [
    "df1"
   ]
  },
  {
   "cell_type": "code",
   "execution_count": 14,
   "metadata": {},
   "outputs": [],
   "source": [
    "training_size=int(len(df1)*0.65)\n",
    "test_size=len(df1)-training_size\n",
    "train_data,test_data=df1[0:training_size,:1],df1[training_size:len(df1),:1]"
   ]
  },
  {
   "cell_type": "code",
   "execution_count": 15,
   "metadata": {},
   "outputs": [
    {
     "data": {
      "text/plain": [
       "(817, 441)"
      ]
     },
     "execution_count": 15,
     "metadata": {},
     "output_type": "execute_result"
    }
   ],
   "source": [
    "training_size,test_size"
   ]
  },
  {
   "cell_type": "code",
   "execution_count": 16,
   "metadata": {},
   "outputs": [
    {
     "name": "stdout",
     "output_type": "stream",
     "text": [
      "<class 'numpy.ndarray'>\n"
     ]
    }
   ],
   "source": [
    "train_data\n",
    "print(type(train_data))"
   ]
  },
  {
   "cell_type": "code",
   "execution_count": 17,
   "metadata": {},
   "outputs": [],
   "source": [
    "def create_dataset(dataset, time_step=1):\n",
    "\tdataX, dataY = [], []\n",
    "\tfor i in range(len(dataset)-time_step-1):\n",
    "\t\ta = dataset[i:(i+time_step), 0]\n",
    "\t\tdataX.append(a)\n",
    "\t\tdataY.append(dataset[i + time_step, 0])\n",
    "\treturn np.array(dataX), np.array(dataY)"
   ]
  },
  {
   "cell_type": "code",
   "execution_count": 18,
   "metadata": {},
   "outputs": [],
   "source": [
    "# reshape into X=t,t+1,t+2,t+3 and Y=t+4\n",
    "time_step = 100\n",
    "X_train, Y_train = create_dataset(train_data, time_step)\n",
    "X_test, Y_test = create_dataset(test_data, time_step)"
   ]
  },
  {
   "cell_type": "code",
   "execution_count": 19,
   "metadata": {},
   "outputs": [
    {
     "name": "stdout",
     "output_type": "stream",
     "text": [
      "(716, 100) (716,) (340, 100) (340,)\n"
     ]
    }
   ],
   "source": [
    "print(X_train.shape, Y_train.shape, X_test.shape, Y_test.shape)"
   ]
  },
  {
   "cell_type": "code",
   "execution_count": 20,
   "metadata": {},
   "outputs": [],
   "source": [
    "# reshape input to be [samples, time steps, features] which is required for LSTM\n",
    "X_train =X_train.reshape(X_train.shape[0],X_train.shape[1] , 1)\n",
    "X_test = X_test.reshape(X_test.shape[0],X_test.shape[1] , 1)"
   ]
  },
  {
   "cell_type": "code",
   "execution_count": 21,
   "metadata": {},
   "outputs": [],
   "source": [
    "model=Sequential()\n",
    "model.add(LSTM(50,return_sequences=True,input_shape=(100,1)))\n",
    "model.add(LSTM(50,return_sequences=True))\n",
    "model.add(LSTM(50))\n",
    "model.add(Dense(1))\n",
    "model.compile(loss='mean_squared_error',optimizer='adam')"
   ]
  },
  {
   "cell_type": "code",
   "execution_count": 22,
   "metadata": {},
   "outputs": [
    {
     "name": "stdout",
     "output_type": "stream",
     "text": [
      "Model: \"sequential\"\n",
      "_________________________________________________________________\n",
      " Layer (type)                Output Shape              Param #   \n",
      "=================================================================\n",
      " lstm (LSTM)                 (None, 100, 50)           10400     \n",
      "                                                                 \n",
      " lstm_1 (LSTM)               (None, 100, 50)           20200     \n",
      "                                                                 \n",
      " lstm_2 (LSTM)               (None, 50)                20200     \n",
      "                                                                 \n",
      " dense (Dense)               (None, 1)                 51        \n",
      "                                                                 \n",
      "=================================================================\n",
      "Total params: 50,851\n",
      "Trainable params: 50,851\n",
      "Non-trainable params: 0\n",
      "_________________________________________________________________\n"
     ]
    }
   ],
   "source": [
    "model.summary()"
   ]
  },
  {
   "cell_type": "code",
   "execution_count": 23,
   "metadata": {},
   "outputs": [
    {
     "name": "stdout",
     "output_type": "stream",
     "text": [
      "Model: \"sequential\"\n",
      "_________________________________________________________________\n",
      " Layer (type)                Output Shape              Param #   \n",
      "=================================================================\n",
      " lstm (LSTM)                 (None, 100, 50)           10400     \n",
      "                                                                 \n",
      " lstm_1 (LSTM)               (None, 100, 50)           20200     \n",
      "                                                                 \n",
      " lstm_2 (LSTM)               (None, 50)                20200     \n",
      "                                                                 \n",
      " dense (Dense)               (None, 1)                 51        \n",
      "                                                                 \n",
      "=================================================================\n",
      "Total params: 50,851\n",
      "Trainable params: 50,851\n",
      "Non-trainable params: 0\n",
      "_________________________________________________________________\n"
     ]
    }
   ],
   "source": [
    "model.summary()"
   ]
  },
  {
   "cell_type": "code",
   "execution_count": 24,
   "metadata": {},
   "outputs": [
    {
     "name": "stdout",
     "output_type": "stream",
     "text": [
      "Epoch 1/100\n",
      "12/12 [==============================] - 5s 186ms/step - loss: 0.0179 - val_loss: 0.0108\n",
      "Epoch 2/100\n",
      "12/12 [==============================] - 1s 105ms/step - loss: 0.0037 - val_loss: 0.0230\n",
      "Epoch 3/100\n",
      "12/12 [==============================] - 1s 99ms/step - loss: 0.0019 - val_loss: 0.0184\n",
      "Epoch 4/100\n",
      "12/12 [==============================] - 1s 85ms/step - loss: 9.7635e-04 - val_loss: 0.0207\n",
      "Epoch 5/100\n",
      "12/12 [==============================] - 1s 89ms/step - loss: 9.1922e-04 - val_loss: 0.0201\n",
      "Epoch 6/100\n",
      "12/12 [==============================] - 1s 85ms/step - loss: 8.8882e-04 - val_loss: 0.0193\n",
      "Epoch 7/100\n",
      "12/12 [==============================] - 1s 88ms/step - loss: 7.9554e-04 - val_loss: 0.0215\n",
      "Epoch 8/100\n",
      "12/12 [==============================] - 1s 86ms/step - loss: 8.1560e-04 - val_loss: 0.0189\n",
      "Epoch 9/100\n",
      "12/12 [==============================] - 1s 119ms/step - loss: 7.0910e-04 - val_loss: 0.0177\n",
      "Epoch 10/100\n",
      "12/12 [==============================] - 1s 111ms/step - loss: 6.4581e-04 - val_loss: 0.0177\n",
      "Epoch 11/100\n",
      "12/12 [==============================] - 1s 109ms/step - loss: 5.8155e-04 - val_loss: 0.0142\n",
      "Epoch 12/100\n",
      "12/12 [==============================] - 1s 112ms/step - loss: 5.4479e-04 - val_loss: 0.0156\n",
      "Epoch 13/100\n",
      "12/12 [==============================] - 1s 86ms/step - loss: 4.9596e-04 - val_loss: 0.0141\n",
      "Epoch 14/100\n",
      "12/12 [==============================] - 1s 101ms/step - loss: 4.6168e-04 - val_loss: 0.0152\n",
      "Epoch 15/100\n",
      "12/12 [==============================] - 1s 98ms/step - loss: 4.5556e-04 - val_loss: 0.0138\n",
      "Epoch 16/100\n",
      "12/12 [==============================] - 1s 100ms/step - loss: 4.9045e-04 - val_loss: 0.0142\n",
      "Epoch 17/100\n",
      "12/12 [==============================] - 1s 92ms/step - loss: 4.4103e-04 - val_loss: 0.0148\n",
      "Epoch 18/100\n",
      "12/12 [==============================] - 1s 109ms/step - loss: 4.5325e-04 - val_loss: 0.0136\n",
      "Epoch 19/100\n",
      "12/12 [==============================] - 1s 105ms/step - loss: 4.0834e-04 - val_loss: 0.0136\n",
      "Epoch 20/100\n",
      "12/12 [==============================] - 1s 106ms/step - loss: 4.0109e-04 - val_loss: 0.0143\n",
      "Epoch 21/100\n",
      "12/12 [==============================] - 1s 97ms/step - loss: 4.4231e-04 - val_loss: 0.0123\n",
      "Epoch 22/100\n",
      "12/12 [==============================] - 1s 86ms/step - loss: 4.0519e-04 - val_loss: 0.0134\n",
      "Epoch 23/100\n",
      "12/12 [==============================] - 1s 86ms/step - loss: 4.0690e-04 - val_loss: 0.0136\n",
      "Epoch 24/100\n",
      "12/12 [==============================] - 1s 86ms/step - loss: 3.8368e-04 - val_loss: 0.0123\n",
      "Epoch 25/100\n",
      "12/12 [==============================] - 1s 87ms/step - loss: 3.8664e-04 - val_loss: 0.0153\n",
      "Epoch 26/100\n",
      "12/12 [==============================] - 1s 86ms/step - loss: 4.2656e-04 - val_loss: 0.0117\n",
      "Epoch 27/100\n",
      "12/12 [==============================] - 1s 87ms/step - loss: 4.1402e-04 - val_loss: 0.0113\n",
      "Epoch 28/100\n",
      "12/12 [==============================] - 1s 88ms/step - loss: 4.6072e-04 - val_loss: 0.0110\n",
      "Epoch 29/100\n",
      "12/12 [==============================] - 1s 87ms/step - loss: 3.8118e-04 - val_loss: 0.0126\n",
      "Epoch 30/100\n",
      "12/12 [==============================] - 1s 87ms/step - loss: 3.8349e-04 - val_loss: 0.0114\n",
      "Epoch 31/100\n",
      "12/12 [==============================] - 1s 86ms/step - loss: 4.4235e-04 - val_loss: 0.0130\n",
      "Epoch 32/100\n",
      "12/12 [==============================] - 1s 87ms/step - loss: 3.6501e-04 - val_loss: 0.0110\n",
      "Epoch 33/100\n",
      "12/12 [==============================] - 1s 87ms/step - loss: 3.8772e-04 - val_loss: 0.0121\n",
      "Epoch 34/100\n",
      "12/12 [==============================] - 1s 89ms/step - loss: 3.9519e-04 - val_loss: 0.0114\n",
      "Epoch 35/100\n",
      "12/12 [==============================] - 1s 87ms/step - loss: 3.8001e-04 - val_loss: 0.0116\n",
      "Epoch 36/100\n",
      "12/12 [==============================] - 1s 88ms/step - loss: 3.7668e-04 - val_loss: 0.0115\n",
      "Epoch 37/100\n",
      "12/12 [==============================] - 1s 87ms/step - loss: 3.6667e-04 - val_loss: 0.0107\n",
      "Epoch 38/100\n",
      "12/12 [==============================] - 1s 88ms/step - loss: 3.6342e-04 - val_loss: 0.0122\n",
      "Epoch 39/100\n",
      "12/12 [==============================] - 1s 88ms/step - loss: 3.7933e-04 - val_loss: 0.0105\n",
      "Epoch 40/100\n",
      "12/12 [==============================] - 1s 111ms/step - loss: 4.7340e-04 - val_loss: 0.0146\n",
      "Epoch 41/100\n",
      "12/12 [==============================] - 1s 106ms/step - loss: 4.6123e-04 - val_loss: 0.0092\n",
      "Epoch 42/100\n",
      "12/12 [==============================] - 1s 85ms/step - loss: 5.0838e-04 - val_loss: 0.0111\n",
      "Epoch 43/100\n",
      "12/12 [==============================] - 1s 99ms/step - loss: 3.7442e-04 - val_loss: 0.0106\n",
      "Epoch 44/100\n",
      "12/12 [==============================] - 1s 103ms/step - loss: 3.6829e-04 - val_loss: 0.0124\n",
      "Epoch 45/100\n",
      "12/12 [==============================] - 1s 96ms/step - loss: 3.4941e-04 - val_loss: 0.0123\n",
      "Epoch 46/100\n",
      "12/12 [==============================] - 1s 104ms/step - loss: 3.6004e-04 - val_loss: 0.0116\n",
      "Epoch 47/100\n",
      "12/12 [==============================] - 1s 105ms/step - loss: 3.9957e-04 - val_loss: 0.0106\n",
      "Epoch 48/100\n",
      "12/12 [==============================] - 1s 105ms/step - loss: 3.4927e-04 - val_loss: 0.0110\n",
      "Epoch 49/100\n",
      "12/12 [==============================] - 1s 104ms/step - loss: 3.7525e-04 - val_loss: 0.0117\n",
      "Epoch 50/100\n",
      "12/12 [==============================] - 1s 105ms/step - loss: 3.4881e-04 - val_loss: 0.0107\n",
      "Epoch 51/100\n",
      "12/12 [==============================] - 1s 104ms/step - loss: 3.3649e-04 - val_loss: 0.0121\n",
      "Epoch 52/100\n",
      "12/12 [==============================] - 1s 104ms/step - loss: 3.6939e-04 - val_loss: 0.0100\n",
      "Epoch 53/100\n",
      "12/12 [==============================] - 1s 106ms/step - loss: 3.8025e-04 - val_loss: 0.0109\n",
      "Epoch 54/100\n",
      "12/12 [==============================] - 1s 105ms/step - loss: 3.5673e-04 - val_loss: 0.0106\n",
      "Epoch 55/100\n",
      "12/12 [==============================] - 1s 104ms/step - loss: 3.6018e-04 - val_loss: 0.0098\n",
      "Epoch 56/100\n",
      "12/12 [==============================] - 1s 104ms/step - loss: 3.3754e-04 - val_loss: 0.0102\n",
      "Epoch 57/100\n",
      "12/12 [==============================] - 1s 105ms/step - loss: 3.3575e-04 - val_loss: 0.0118\n",
      "Epoch 58/100\n",
      "12/12 [==============================] - 1s 119ms/step - loss: 3.3449e-04 - val_loss: 0.0106\n",
      "Epoch 59/100\n",
      "12/12 [==============================] - 2s 134ms/step - loss: 3.1640e-04 - val_loss: 0.0111\n",
      "Epoch 60/100\n",
      "12/12 [==============================] - 1s 121ms/step - loss: 3.2587e-04 - val_loss: 0.0109\n",
      "Epoch 61/100\n",
      "12/12 [==============================] - 1s 101ms/step - loss: 3.1998e-04 - val_loss: 0.0101\n",
      "Epoch 62/100\n",
      "12/12 [==============================] - 1s 99ms/step - loss: 3.2534e-04 - val_loss: 0.0107\n",
      "Epoch 63/100\n",
      "12/12 [==============================] - 1s 97ms/step - loss: 3.1257e-04 - val_loss: 0.0115\n",
      "Epoch 64/100\n",
      "12/12 [==============================] - 1s 98ms/step - loss: 3.1871e-04 - val_loss: 0.0106\n",
      "Epoch 65/100\n",
      "12/12 [==============================] - 1s 95ms/step - loss: 3.1178e-04 - val_loss: 0.0090\n",
      "Epoch 66/100\n",
      "12/12 [==============================] - 1s 95ms/step - loss: 3.2097e-04 - val_loss: 0.0103\n",
      "Epoch 67/100\n",
      "12/12 [==============================] - 1s 99ms/step - loss: 3.3998e-04 - val_loss: 0.0095\n",
      "Epoch 68/100\n",
      "12/12 [==============================] - 1s 94ms/step - loss: 3.1204e-04 - val_loss: 0.0105\n",
      "Epoch 69/100\n",
      "12/12 [==============================] - 1s 94ms/step - loss: 3.3209e-04 - val_loss: 0.0094\n",
      "Epoch 70/100\n",
      "12/12 [==============================] - 1s 96ms/step - loss: 3.1274e-04 - val_loss: 0.0092\n",
      "Epoch 71/100\n",
      "12/12 [==============================] - 1s 93ms/step - loss: 3.0357e-04 - val_loss: 0.0091\n",
      "Epoch 72/100\n",
      "12/12 [==============================] - 1s 94ms/step - loss: 3.1385e-04 - val_loss: 0.0099\n",
      "Epoch 73/100\n",
      "12/12 [==============================] - 1s 110ms/step - loss: 3.0738e-04 - val_loss: 0.0101\n",
      "Epoch 74/100\n",
      "12/12 [==============================] - 1s 97ms/step - loss: 4.1098e-04 - val_loss: 0.0078\n",
      "Epoch 75/100\n",
      "12/12 [==============================] - 1s 95ms/step - loss: 3.4594e-04 - val_loss: 0.0092\n",
      "Epoch 76/100\n",
      "12/12 [==============================] - 1s 100ms/step - loss: 3.4597e-04 - val_loss: 0.0083\n",
      "Epoch 77/100\n",
      "12/12 [==============================] - 1s 94ms/step - loss: 3.1411e-04 - val_loss: 0.0082\n",
      "Epoch 78/100\n",
      "12/12 [==============================] - 1s 92ms/step - loss: 3.0340e-04 - val_loss: 0.0080\n",
      "Epoch 79/100\n",
      "12/12 [==============================] - 1s 92ms/step - loss: 2.9425e-04 - val_loss: 0.0086\n",
      "Epoch 80/100\n",
      "12/12 [==============================] - 1s 93ms/step - loss: 2.8338e-04 - val_loss: 0.0087\n",
      "Epoch 81/100\n",
      "12/12 [==============================] - 1s 95ms/step - loss: 3.3815e-04 - val_loss: 0.0083\n",
      "Epoch 82/100\n",
      "12/12 [==============================] - 1s 94ms/step - loss: 3.1625e-04 - val_loss: 0.0078\n",
      "Epoch 83/100\n",
      "12/12 [==============================] - 1s 97ms/step - loss: 3.1934e-04 - val_loss: 0.0081\n",
      "Epoch 84/100\n",
      "12/12 [==============================] - 1s 118ms/step - loss: 2.9548e-04 - val_loss: 0.0085\n",
      "Epoch 85/100\n",
      "12/12 [==============================] - 1s 115ms/step - loss: 2.9571e-04 - val_loss: 0.0075\n",
      "Epoch 86/100\n",
      "12/12 [==============================] - 1s 96ms/step - loss: 2.9811e-04 - val_loss: 0.0078\n",
      "Epoch 87/100\n",
      "12/12 [==============================] - 1s 103ms/step - loss: 2.8011e-04 - val_loss: 0.0077\n",
      "Epoch 88/100\n",
      "12/12 [==============================] - 1s 109ms/step - loss: 2.7576e-04 - val_loss: 0.0077\n",
      "Epoch 89/100\n",
      "12/12 [==============================] - 1s 102ms/step - loss: 2.7818e-04 - val_loss: 0.0077\n",
      "Epoch 90/100\n",
      "12/12 [==============================] - 1s 98ms/step - loss: 2.7911e-04 - val_loss: 0.0083\n",
      "Epoch 91/100\n",
      "12/12 [==============================] - 1s 98ms/step - loss: 3.2528e-04 - val_loss: 0.0066\n",
      "Epoch 92/100\n",
      "12/12 [==============================] - 1s 101ms/step - loss: 2.8557e-04 - val_loss: 0.0074\n",
      "Epoch 93/100\n",
      "12/12 [==============================] - 1s 102ms/step - loss: 2.7044e-04 - val_loss: 0.0059\n",
      "Epoch 94/100\n",
      "12/12 [==============================] - 1s 103ms/step - loss: 3.6258e-04 - val_loss: 0.0082\n",
      "Epoch 95/100\n",
      "12/12 [==============================] - 1s 104ms/step - loss: 3.4911e-04 - val_loss: 0.0062\n",
      "Epoch 96/100\n",
      "12/12 [==============================] - 1s 99ms/step - loss: 2.7472e-04 - val_loss: 0.0070\n",
      "Epoch 97/100\n",
      "12/12 [==============================] - 1s 95ms/step - loss: 2.9651e-04 - val_loss: 0.0070\n",
      "Epoch 98/100\n",
      "12/12 [==============================] - 1s 104ms/step - loss: 2.8605e-04 - val_loss: 0.0060\n",
      "Epoch 99/100\n",
      "12/12 [==============================] - 1s 91ms/step - loss: 3.4168e-04 - val_loss: 0.0071\n",
      "Epoch 100/100\n",
      "12/12 [==============================] - 1s 110ms/step - loss: 3.5376e-04 - val_loss: 0.0063\n"
     ]
    },
    {
     "data": {
      "text/plain": [
       "<keras.callbacks.History at 0x7f6bf46e9820>"
      ]
     },
     "execution_count": 24,
     "metadata": {},
     "output_type": "execute_result"
    }
   ],
   "source": [
    "model.fit(X_train,Y_train,validation_data=(X_test,Y_test),epochs=100,batch_size=64,verbose=1)"
   ]
  },
  {
   "cell_type": "code",
   "execution_count": 25,
   "metadata": {},
   "outputs": [],
   "source": [
    "### Lets Do the prediction and check performance metrics\n",
    "train_predict=model.predict(X_train)\n",
    "test_predict=model.predict(X_test)"
   ]
  },
  {
   "cell_type": "code",
   "execution_count": 26,
   "metadata": {},
   "outputs": [],
   "source": [
    "##Transformback to original form\n",
    "train_predict=scaler.inverse_transform(train_predict)\n",
    "test_predict=scaler.inverse_transform(test_predict)"
   ]
  },
  {
   "cell_type": "code",
   "execution_count": 27,
   "metadata": {},
   "outputs": [
    {
     "data": {
      "text/plain": [
       "201.34228661687416"
      ]
     },
     "execution_count": 27,
     "metadata": {},
     "output_type": "execute_result"
    }
   ],
   "source": [
    "### Calculate RMSE performance metrics\n",
    "math.sqrt(mean_squared_error(Y_train,train_predict))"
   ]
  },
  {
   "cell_type": "code",
   "execution_count": 28,
   "metadata": {},
   "outputs": [
    {
     "data": {
      "text/plain": [
       "144.01072449940173"
      ]
     },
     "execution_count": 28,
     "metadata": {},
     "output_type": "execute_result"
    }
   ],
   "source": [
    "### Test Data RMSE\n",
    "math.sqrt(mean_squared_error(Y_test,test_predict))"
   ]
  },
  {
   "cell_type": "code",
   "execution_count": 29,
   "metadata": {},
   "outputs": [
    {
     "data": {
      "image/png": "[encoded data removed]",
      "text/plain": [
       "<Figure size 432x288 with 1 Axes>"
      ]
     },
     "metadata": {
      "needs_background": "light"
     },
     "output_type": "display_data"
    }
   ],
   "source": [
    "### Plotting \n",
    "# shift train predictions for plotting\n",
    "look_back=100\n",
    "trainPredictPlot = np.empty_like(df1)\n",
    "trainPredictPlot[:, :] = np.nan\n",
    "trainPredictPlot[look_back:len(train_predict)+look_back, :] = train_predict\n",
    "# shift test predictions for plotting\n",
    "testPredictPlot = np.empty_like(df1)\n",
    "testPredictPlot[:, :] = np.nan\n",
    "testPredictPlot[len(train_predict)+(look_back*2)+1:len(df1)-1, :] = test_predict\n",
    "# plot baseline and predictions\n",
    "plt.plot(scaler.inverse_transform(df1))\n",
    "plt.plot(trainPredictPlot)\n",
    "plt.plot(testPredictPlot)\n",
    "plt.show()"
   ]
  },
  {
   "cell_type": "code",
   "execution_count": null,
   "metadata": {},
   "outputs": [],
   "source": []
  },
  {
   "cell_type": "code",
   "execution_count": 30,
   "metadata": {},
   "outputs": [
    {
     "data": {
      "text/plain": [
       "441"
      ]
     },
     "execution_count": 30,
     "metadata": {},
     "output_type": "execute_result"
    }
   ],
   "source": [
    "len(test_data)"
   ]
  },
  {
   "cell_type": "code",
   "execution_count": 31,
   "metadata": {},
   "outputs": [
    {
     "data": {
      "text/plain": [
       "(1, 101)"
      ]
     },
     "execution_count": 31,
     "metadata": {},
     "output_type": "execute_result"
    }
   ],
   "source": [
    "x_input=test_data[340:].reshape(1,-1)\n",
    "x_input.shape"
   ]
  },
  {
   "cell_type": "code",
   "execution_count": 32,
   "metadata": {},
   "outputs": [
    {
     "data": {
      "text/plain": [
       "array([[0.10532248, 0.10584847, 0.11090795, 0.10857858, 0.0989856 ,\n",
       "        0.09983719, 0.10356919, 0.10737633, 0.10715091, 0.10399499,\n",
       "        0.10194114, 0.10459612, 0.11591735, 0.11268629, 0.11438948,\n",
       "        0.11724483, 0.11887289, 0.12485911, 0.12090169, 0.11829681,\n",
       "        0.10552286, 0.10697558, 0.10339386, 0.10567314, 0.10507201,\n",
       "        0.09823419, 0.09041954, 0.09164684, 0.0977082 , 0.10016281,\n",
       "        0.10038823, 0.09650595, 0.0878397 , 0.09014402, 0.08681277,\n",
       "        0.08969317, 0.08090169, 0.08583594, 0.08806512, 0.09129618,\n",
       "        0.09031935, 0.09009393, 0.08683782, 0.085335  , 0.09247339,\n",
       "        0.09517846, 0.09946149, 0.10499687, 0.10624922, 0.10680025,\n",
       "        0.10482154, 0.10469631, 0.1063995 , 0.10522229, 0.11453976,\n",
       "        0.10760175, 0.10549781, 0.10815279, 0.11183469, 0.1105072 ,\n",
       "        0.1113087 , 0.10920476, 0.1101315 , 0.10289292, 0.10276769,\n",
       "        0.10807765, 0.10810269, 0.11060739, 0.11684408, 0.12781465,\n",
       "        0.13452724, 0.13570445, 0.13668128, 0.13800877, 0.12515967,\n",
       "        0.13375078, 0.14642455, 0.14509706, 0.14256731, 0.1377583 ,\n",
       "        0.14647464, 0.16115216, 0.17092048, 0.16961803, 0.181866  ,\n",
       "        0.17257358, 0.16904195, 0.18149029, 0.16385723, 0.16105197,\n",
       "        0.15757044, 0.16568566, 0.17232311, 0.17392611, 0.18407013,\n",
       "        0.18146525, 0.18169067, 0.17873513, 0.17715717, 0.18827802,\n",
       "        0.18249217]])"
      ]
     },
     "execution_count": 32,
     "metadata": {},
     "output_type": "execute_result"
    }
   ],
   "source": [
    "x_input"
   ]
  },
  {
   "cell_type": "code",
   "execution_count": 33,
   "metadata": {},
   "outputs": [],
   "source": [
    "temp_input=list(x_input)\n",
    "temp_input=temp_input[0].tolist()"
   ]
  },
  {
   "cell_type": "code",
   "execution_count": 34,
   "metadata": {},
   "outputs": [
    {
     "name": "stdout",
     "output_type": "stream",
     "text": [
      "0 day input [0.10584847 0.11090795 0.10857858 0.0989856  0.09983719 0.10356919\n",
      " 0.10737633 0.10715091 0.10399499 0.10194114 0.10459612 0.11591735\n",
      " 0.11268629 0.11438948 0.11724483 0.11887289 0.12485911 0.12090169\n",
      " 0.11829681 0.10552286 0.10697558 0.10339386 0.10567314 0.10507201\n",
      " 0.09823419 0.09041954 0.09164684 0.0977082  0.10016281 0.10038823\n",
      " 0.09650595 0.0878397  0.09014402 0.08681277 0.08969317 0.08090169\n",
      " 0.08583594 0.08806512 0.09129618 0.09031935 0.09009393 0.08683782\n",
      " 0.085335   0.09247339 0.09517846 0.09946149 0.10499687 0.10624922\n",
      " 0.10680025 0.10482154 0.10469631 0.1063995  0.10522229 0.11453976\n",
      " 0.10760175 0.10549781 0.10815279 0.11183469 0.1105072  0.1113087\n",
      " 0.10920476 0.1101315  0.10289292 0.10276769 0.10807765 0.10810269\n",
      " 0.11060739 0.11684408 0.12781465 0.13452724 0.13570445 0.13668128\n",
      " 0.13800877 0.12515967 0.13375078 0.14642455 0.14509706 0.14256731\n",
      " 0.1377583  0.14647464 0.16115216 0.17092048 0.16961803 0.181866\n",
      " 0.17257358 0.16904195 0.18149029 0.16385723 0.16105197 0.15757044\n",
      " 0.16568566 0.17232311 0.17392611 0.18407013 0.18146525 0.18169067\n",
      " 0.17873513 0.17715717 0.18827802 0.18249217]\n",
      "0 day output [[0.177104]]\n",
      "1 day input [0.11090795 0.10857858 0.0989856  0.09983719 0.10356919 0.10737633\n",
      " 0.10715091 0.10399499 0.10194114 0.10459612 0.11591735 0.11268629\n",
      " 0.11438948 0.11724483 0.11887289 0.12485911 0.12090169 0.11829681\n",
      " 0.10552286 0.10697558 0.10339386 0.10567314 0.10507201 0.09823419\n",
      " 0.09041954 0.09164684 0.0977082  0.10016281 0.10038823 0.09650595\n",
      " 0.0878397  0.09014402 0.08681277 0.08969317 0.08090169 0.08583594\n",
      " 0.08806512 0.09129618 0.09031935 0.09009393 0.08683782 0.085335\n",
      " 0.09247339 0.09517846 0.09946149 0.10499687 0.10624922 0.10680025\n",
      " 0.10482154 0.10469631 0.1063995  0.10522229 0.11453976 0.10760175\n",
      " 0.10549781 0.10815279 0.11183469 0.1105072  0.1113087  0.10920476\n",
      " 0.1101315  0.10289292 0.10276769 0.10807765 0.10810269 0.11060739\n",
      " 0.11684408 0.12781465 0.13452724 0.13570445 0.13668128 0.13800877\n",
      " 0.12515967 0.13375078 0.14642455 0.14509706 0.14256731 0.1377583\n",
      " 0.14647464 0.16115216 0.17092048 0.16961803 0.181866   0.17257358\n",
      " 0.16904195 0.18149029 0.16385723 0.16105197 0.15757044 0.16568566\n",
      " 0.17232311 0.17392611 0.18407013 0.18146525 0.18169067 0.17873513\n",
      " 0.17715717 0.18827802 0.18249217 0.177104  ]\n",
      "1 day output [[0.17798653]]\n",
      "2 day input [0.10857858 0.0989856  0.09983719 0.10356919 0.10737633 0.10715091\n",
      " 0.10399499 0.10194114 0.10459612 0.11591735 0.11268629 0.11438948\n",
      " 0.11724483 0.11887289 0.12485911 0.12090169 0.11829681 0.10552286\n",
      " 0.10697558 0.10339386 0.10567314 0.10507201 0.09823419 0.09041954\n",
      " 0.09164684 0.0977082  0.10016281 0.10038823 0.09650595 0.0878397\n",
      " 0.09014402 0.08681277 0.08969317 0.08090169 0.08583594 0.08806512\n",
      " 0.09129618 0.09031935 0.09009393 0.08683782 0.085335   0.09247339\n",
      " 0.09517846 0.09946149 0.10499687 0.10624922 0.10680025 0.10482154\n",
      " 0.10469631 0.1063995  0.10522229 0.11453976 0.10760175 0.10549781\n",
      " 0.10815279 0.11183469 0.1105072  0.1113087  0.10920476 0.1101315\n",
      " 0.10289292 0.10276769 0.10807765 0.10810269 0.11060739 0.11684408\n",
      " 0.12781465 0.13452724 0.13570445 0.13668128 0.13800877 0.12515967\n",
      " 0.13375078 0.14642455 0.14509706 0.14256731 0.1377583  0.14647464\n",
      " 0.16115216 0.17092048 0.16961803 0.181866   0.17257358 0.16904195\n",
      " 0.18149029 0.16385723 0.16105197 0.15757044 0.16568566 0.17232311\n",
      " 0.17392611 0.18407013 0.18146525 0.18169067 0.17873513 0.17715717\n",
      " 0.18827802 0.18249217 0.177104   0.17798653]\n",
      "2 day output [[0.17825145]]\n",
      "3 day input [0.0989856  0.09983719 0.10356919 0.10737633 0.10715091 0.10399499\n",
      " 0.10194114 0.10459612 0.11591735 0.11268629 0.11438948 0.11724483\n",
      " 0.11887289 0.12485911 0.12090169 0.11829681 0.10552286 0.10697558\n",
      " 0.10339386 0.10567314 0.10507201 0.09823419 0.09041954 0.09164684\n",
      " 0.0977082  0.10016281 0.10038823 0.09650595 0.0878397  0.09014402\n",
      " 0.08681277 0.08969317 0.08090169 0.08583594 0.08806512 0.09129618\n",
      " 0.09031935 0.09009393 0.08683782 0.085335   0.09247339 0.09517846\n",
      " 0.09946149 0.10499687 0.10624922 0.10680025 0.10482154 0.10469631\n",
      " 0.1063995  0.10522229 0.11453976 0.10760175 0.10549781 0.10815279\n",
      " 0.11183469 0.1105072  0.1113087  0.10920476 0.1101315  0.10289292\n",
      " 0.10276769 0.10807765 0.10810269 0.11060739 0.11684408 0.12781465\n",
      " 0.13452724 0.13570445 0.13668128 0.13800877 0.12515967 0.13375078\n",
      " 0.14642455 0.14509706 0.14256731 0.1377583  0.14647464 0.16115216\n",
      " 0.17092048 0.16961803 0.181866   0.17257358 0.16904195 0.18149029\n",
      " 0.16385723 0.16105197 0.15757044 0.16568566 0.17232311 0.17392611\n",
      " 0.18407013 0.18146525 0.18169067 0.17873513 0.17715717 0.18827802\n",
      " 0.18249217 0.177104   0.17798653 0.17825145]\n",
      "3 day output [[0.17807108]]\n",
      "4 day input [0.09983719 0.10356919 0.10737633 0.10715091 0.10399499 0.10194114\n",
      " 0.10459612 0.11591735 0.11268629 0.11438948 0.11724483 0.11887289\n",
      " 0.12485911 0.12090169 0.11829681 0.10552286 0.10697558 0.10339386\n",
      " 0.10567314 0.10507201 0.09823419 0.09041954 0.09164684 0.0977082\n",
      " 0.10016281 0.10038823 0.09650595 0.0878397  0.09014402 0.08681277\n",
      " 0.08969317 0.08090169 0.08583594 0.08806512 0.09129618 0.09031935\n",
      " 0.09009393 0.08683782 0.085335   0.09247339 0.09517846 0.09946149\n",
      " 0.10499687 0.10624922 0.10680025 0.10482154 0.10469631 0.1063995\n",
      " 0.10522229 0.11453976 0.10760175 0.10549781 0.10815279 0.11183469\n",
      " 0.1105072  0.1113087  0.10920476 0.1101315  0.10289292 0.10276769\n",
      " 0.10807765 0.10810269 0.11060739 0.11684408 0.12781465 0.13452724\n",
      " 0.13570445 0.13668128 0.13800877 0.12515967 0.13375078 0.14642455\n",
      " 0.14509706 0.14256731 0.1377583  0.14647464 0.16115216 0.17092048\n",
      " 0.16961803 0.181866   0.17257358 0.16904195 0.18149029 0.16385723\n",
      " 0.16105197 0.15757044 0.16568566 0.17232311 0.17392611 0.18407013\n",
      " 0.18146525 0.18169067 0.17873513 0.17715717 0.18827802 0.18249217\n",
      " 0.177104   0.17798653 0.17825145 0.17807108]\n",
      "4 day output [[0.17761144]]\n",
      "5 day input [0.10356919 0.10737633 0.10715091 0.10399499 0.10194114 0.10459612\n",
      " 0.11591735 0.11268629 0.11438948 0.11724483 0.11887289 0.12485911\n",
      " 0.12090169 0.11829681 0.10552286 0.10697558 0.10339386 0.10567314\n",
      " 0.10507201 0.09823419 0.09041954 0.09164684 0.0977082  0.10016281\n",
      " 0.10038823 0.09650595 0.0878397  0.09014402 0.08681277 0.08969317\n",
      " 0.08090169 0.08583594 0.08806512 0.09129618 0.09031935 0.09009393\n",
      " 0.08683782 0.085335   0.09247339 0.09517846 0.09946149 0.10499687\n",
      " 0.10624922 0.10680025 0.10482154 0.10469631 0.1063995  0.10522229\n",
      " 0.11453976 0.10760175 0.10549781 0.10815279 0.11183469 0.1105072\n",
      " 0.1113087  0.10920476 0.1101315  0.10289292 0.10276769 0.10807765\n",
      " 0.10810269 0.11060739 0.11684408 0.12781465 0.13452724 0.13570445\n",
      " 0.13668128 0.13800877 0.12515967 0.13375078 0.14642455 0.14509706\n",
      " 0.14256731 0.1377583  0.14647464 0.16115216 0.17092048 0.16961803\n",
      " 0.181866   0.17257358 0.16904195 0.18149029 0.16385723 0.16105197\n",
      " 0.15757044 0.16568566 0.17232311 0.17392611 0.18407013 0.18146525\n",
      " 0.18169067 0.17873513 0.17715717 0.18827802 0.18249217 0.177104\n",
      " 0.17798653 0.17825145 0.17807108 0.17761144]\n",
      "5 day output [[0.17699242]]\n",
      "6 day input [0.10737633 0.10715091 0.10399499 0.10194114 0.10459612 0.11591735\n",
      " 0.11268629 0.11438948 0.11724483 0.11887289 0.12485911 0.12090169\n",
      " 0.11829681 0.10552286 0.10697558 0.10339386 0.10567314 0.10507201\n",
      " 0.09823419 0.09041954 0.09164684 0.0977082  0.10016281 0.10038823\n",
      " 0.09650595 0.0878397  0.09014402 0.08681277 0.08969317 0.08090169\n",
      " 0.08583594 0.08806512 0.09129618 0.09031935 0.09009393 0.08683782\n",
      " 0.085335   0.09247339 0.09517846 0.09946149 0.10499687 0.10624922\n",
      " 0.10680025 0.10482154 0.10469631 0.1063995  0.10522229 0.11453976\n",
      " 0.10760175 0.10549781 0.10815279 0.11183469 0.1105072  0.1113087\n",
      " 0.10920476 0.1101315  0.10289292 0.10276769 0.10807765 0.10810269\n",
      " 0.11060739 0.11684408 0.12781465 0.13452724 0.13570445 0.13668128\n",
      " 0.13800877 0.12515967 0.13375078 0.14642455 0.14509706 0.14256731\n",
      " 0.1377583  0.14647464 0.16115216 0.17092048 0.16961803 0.181866\n",
      " 0.17257358 0.16904195 0.18149029 0.16385723 0.16105197 0.15757044\n",
      " 0.16568566 0.17232311 0.17392611 0.18407013 0.18146525 0.18169067\n",
      " 0.17873513 0.17715717 0.18827802 0.18249217 0.177104   0.17798653\n",
      " 0.17825145 0.17807108 0.17761144 0.17699242]\n",
      "6 day output [[0.17628837]]\n",
      "7 day input [0.10715091 0.10399499 0.10194114 0.10459612 0.11591735 0.11268629\n",
      " 0.11438948 0.11724483 0.11887289 0.12485911 0.12090169 0.11829681\n",
      " 0.10552286 0.10697558 0.10339386 0.10567314 0.10507201 0.09823419\n",
      " 0.09041954 0.09164684 0.0977082  0.10016281 0.10038823 0.09650595\n",
      " 0.0878397  0.09014402 0.08681277 0.08969317 0.08090169 0.08583594\n",
      " 0.08806512 0.09129618 0.09031935 0.09009393 0.08683782 0.085335\n",
      " 0.09247339 0.09517846 0.09946149 0.10499687 0.10624922 0.10680025\n",
      " 0.10482154 0.10469631 0.1063995  0.10522229 0.11453976 0.10760175\n",
      " 0.10549781 0.10815279 0.11183469 0.1105072  0.1113087  0.10920476\n",
      " 0.1101315  0.10289292 0.10276769 0.10807765 0.10810269 0.11060739\n",
      " 0.11684408 0.12781465 0.13452724 0.13570445 0.13668128 0.13800877\n",
      " 0.12515967 0.13375078 0.14642455 0.14509706 0.14256731 0.1377583\n",
      " 0.14647464 0.16115216 0.17092048 0.16961803 0.181866   0.17257358\n",
      " 0.16904195 0.18149029 0.16385723 0.16105197 0.15757044 0.16568566\n",
      " 0.17232311 0.17392611 0.18407013 0.18146525 0.18169067 0.17873513\n",
      " 0.17715717 0.18827802 0.18249217 0.177104   0.17798653 0.17825145\n",
      " 0.17807108 0.17761144 0.17699242 0.17628837]\n",
      "7 day output [[0.17554088]]\n",
      "8 day input [0.10399499 0.10194114 0.10459612 0.11591735 0.11268629 0.11438948\n",
      " 0.11724483 0.11887289 0.12485911 0.12090169 0.11829681 0.10552286\n",
      " 0.10697558 0.10339386 0.10567314 0.10507201 0.09823419 0.09041954\n",
      " 0.09164684 0.0977082  0.10016281 0.10038823 0.09650595 0.0878397\n",
      " 0.09014402 0.08681277 0.08969317 0.08090169 0.08583594 0.08806512\n",
      " 0.09129618 0.09031935 0.09009393 0.08683782 0.085335   0.09247339\n",
      " 0.09517846 0.09946149 0.10499687 0.10624922 0.10680025 0.10482154\n",
      " 0.10469631 0.1063995  0.10522229 0.11453976 0.10760175 0.10549781\n",
      " 0.10815279 0.11183469 0.1105072  0.1113087  0.10920476 0.1101315\n",
      " 0.10289292 0.10276769 0.10807765 0.10810269 0.11060739 0.11684408\n",
      " 0.12781465 0.13452724 0.13570445 0.13668128 0.13800877 0.12515967\n",
      " 0.13375078 0.14642455 0.14509706 0.14256731 0.1377583  0.14647464\n",
      " 0.16115216 0.17092048 0.16961803 0.181866   0.17257358 0.16904195\n",
      " 0.18149029 0.16385723 0.16105197 0.15757044 0.16568566 0.17232311\n",
      " 0.17392611 0.18407013 0.18146525 0.18169067 0.17873513 0.17715717\n",
      " 0.18827802 0.18249217 0.177104   0.17798653 0.17825145 0.17807108\n",
      " 0.17761144 0.17699242 0.17628837 0.17554088]\n",
      "8 day output [[0.17477146]]\n",
      "9 day input [0.10194114 0.10459612 0.11591735 0.11268629 0.11438948 0.11724483\n",
      " 0.11887289 0.12485911 0.12090169 0.11829681 0.10552286 0.10697558\n",
      " 0.10339386 0.10567314 0.10507201 0.09823419 0.09041954 0.09164684\n",
      " 0.0977082  0.10016281 0.10038823 0.09650595 0.0878397  0.09014402\n",
      " 0.08681277 0.08969317 0.08090169 0.08583594 0.08806512 0.09129618\n",
      " 0.09031935 0.09009393 0.08683782 0.085335   0.09247339 0.09517846\n",
      " 0.09946149 0.10499687 0.10624922 0.10680025 0.10482154 0.10469631\n",
      " 0.1063995  0.10522229 0.11453976 0.10760175 0.10549781 0.10815279\n",
      " 0.11183469 0.1105072  0.1113087  0.10920476 0.1101315  0.10289292\n",
      " 0.10276769 0.10807765 0.10810269 0.11060739 0.11684408 0.12781465\n",
      " 0.13452724 0.13570445 0.13668128 0.13800877 0.12515967 0.13375078\n",
      " 0.14642455 0.14509706 0.14256731 0.1377583  0.14647464 0.16115216\n",
      " 0.17092048 0.16961803 0.181866   0.17257358 0.16904195 0.18149029\n",
      " 0.16385723 0.16105197 0.15757044 0.16568566 0.17232311 0.17392611\n",
      " 0.18407013 0.18146525 0.18169067 0.17873513 0.17715717 0.18827802\n",
      " 0.18249217 0.177104   0.17798653 0.17825145 0.17807108 0.17761144\n",
      " 0.17699242 0.17628837 0.17554088 0.17477146]\n",
      "9 day output [[0.17399116]]\n",
      "10 day input [0.10459612 0.11591735 0.11268629 0.11438948 0.11724483 0.11887289\n",
      " 0.12485911 0.12090169 0.11829681 0.10552286 0.10697558 0.10339386\n",
      " 0.10567314 0.10507201 0.09823419 0.09041954 0.09164684 0.0977082\n",
      " 0.10016281 0.10038823 0.09650595 0.0878397  0.09014402 0.08681277\n",
      " 0.08969317 0.08090169 0.08583594 0.08806512 0.09129618 0.09031935\n",
      " 0.09009393 0.08683782 0.085335   0.09247339 0.09517846 0.09946149\n",
      " 0.10499687 0.10624922 0.10680025 0.10482154 0.10469631 0.1063995\n",
      " 0.10522229 0.11453976 0.10760175 0.10549781 0.10815279 0.11183469\n",
      " 0.1105072  0.1113087  0.10920476 0.1101315  0.10289292 0.10276769\n",
      " 0.10807765 0.10810269 0.11060739 0.11684408 0.12781465 0.13452724\n",
      " 0.13570445 0.13668128 0.13800877 0.12515967 0.13375078 0.14642455\n",
      " 0.14509706 0.14256731 0.1377583  0.14647464 0.16115216 0.17092048\n",
      " 0.16961803 0.181866   0.17257358 0.16904195 0.18149029 0.16385723\n",
      " 0.16105197 0.15757044 0.16568566 0.17232311 0.17392611 0.18407013\n",
      " 0.18146525 0.18169067 0.17873513 0.17715717 0.18827802 0.18249217\n",
      " 0.177104   0.17798653 0.17825145 0.17807108 0.17761144 0.17699242\n",
      " 0.17628837 0.17554088 0.17477146 0.17399116]\n",
      "10 day output [[0.17320596]]\n",
      "11 day input [0.11591735 0.11268629 0.11438948 0.11724483 0.11887289 0.12485911\n",
      " 0.12090169 0.11829681 0.10552286 0.10697558 0.10339386 0.10567314\n",
      " 0.10507201 0.09823419 0.09041954 0.09164684 0.0977082  0.10016281\n",
      " 0.10038823 0.09650595 0.0878397  0.09014402 0.08681277 0.08969317\n",
      " 0.08090169 0.08583594 0.08806512 0.09129618 0.09031935 0.09009393\n",
      " 0.08683782 0.085335   0.09247339 0.09517846 0.09946149 0.10499687\n",
      " 0.10624922 0.10680025 0.10482154 0.10469631 0.1063995  0.10522229\n",
      " 0.11453976 0.10760175 0.10549781 0.10815279 0.11183469 0.1105072\n",
      " 0.1113087  0.10920476 0.1101315  0.10289292 0.10276769 0.10807765\n",
      " 0.10810269 0.11060739 0.11684408 0.12781465 0.13452724 0.13570445\n",
      " 0.13668128 0.13800877 0.12515967 0.13375078 0.14642455 0.14509706\n",
      " 0.14256731 0.1377583  0.14647464 0.16115216 0.17092048 0.16961803\n",
      " 0.181866   0.17257358 0.16904195 0.18149029 0.16385723 0.16105197\n",
      " 0.15757044 0.16568566 0.17232311 0.17392611 0.18407013 0.18146525\n",
      " 0.18169067 0.17873513 0.17715717 0.18827802 0.18249217 0.177104\n",
      " 0.17798653 0.17825145 0.17807108 0.17761144 0.17699242 0.17628837\n",
      " 0.17554088 0.17477146 0.17399116 0.17320596]\n",
      "11 day output [[0.17241976]]\n",
      "12 day input [0.11268629 0.11438948 0.11724483 0.11887289 0.12485911 0.12090169\n",
      " 0.11829681 0.10552286 0.10697558 0.10339386 0.10567314 0.10507201\n",
      " 0.09823419 0.09041954 0.09164684 0.0977082  0.10016281 0.10038823\n",
      " 0.09650595 0.0878397  0.09014402 0.08681277 0.08969317 0.08090169\n",
      " 0.08583594 0.08806512 0.09129618 0.09031935 0.09009393 0.08683782\n",
      " 0.085335   0.09247339 0.09517846 0.09946149 0.10499687 0.10624922\n",
      " 0.10680025 0.10482154 0.10469631 0.1063995  0.10522229 0.11453976\n",
      " 0.10760175 0.10549781 0.10815279 0.11183469 0.1105072  0.1113087\n",
      " 0.10920476 0.1101315  0.10289292 0.10276769 0.10807765 0.10810269\n",
      " 0.11060739 0.11684408 0.12781465 0.13452724 0.13570445 0.13668128\n",
      " 0.13800877 0.12515967 0.13375078 0.14642455 0.14509706 0.14256731\n",
      " 0.1377583  0.14647464 0.16115216 0.17092048 0.16961803 0.181866\n",
      " 0.17257358 0.16904195 0.18149029 0.16385723 0.16105197 0.15757044\n",
      " 0.16568566 0.17232311 0.17392611 0.18407013 0.18146525 0.18169067\n",
      " 0.17873513 0.17715717 0.18827802 0.18249217 0.177104   0.17798653\n",
      " 0.17825145 0.17807108 0.17761144 0.17699242 0.17628837 0.17554088\n",
      " 0.17477146 0.17399116 0.17320596 0.17241976]\n",
      "12 day output [[0.17163552]]\n",
      "13 day input [0.11438948 0.11724483 0.11887289 0.12485911 0.12090169 0.11829681\n",
      " 0.10552286 0.10697558 0.10339386 0.10567314 0.10507201 0.09823419\n",
      " 0.09041954 0.09164684 0.0977082  0.10016281 0.10038823 0.09650595\n",
      " 0.0878397  0.09014402 0.08681277 0.08969317 0.08090169 0.08583594\n",
      " 0.08806512 0.09129618 0.09031935 0.09009393 0.08683782 0.085335\n",
      " 0.09247339 0.09517846 0.09946149 0.10499687 0.10624922 0.10680025\n",
      " 0.10482154 0.10469631 0.1063995  0.10522229 0.11453976 0.10760175\n",
      " 0.10549781 0.10815279 0.11183469 0.1105072  0.1113087  0.10920476\n",
      " 0.1101315  0.10289292 0.10276769 0.10807765 0.10810269 0.11060739\n",
      " 0.11684408 0.12781465 0.13452724 0.13570445 0.13668128 0.13800877\n",
      " 0.12515967 0.13375078 0.14642455 0.14509706 0.14256731 0.1377583\n",
      " 0.14647464 0.16115216 0.17092048 0.16961803 0.181866   0.17257358\n",
      " 0.16904195 0.18149029 0.16385723 0.16105197 0.15757044 0.16568566\n",
      " 0.17232311 0.17392611 0.18407013 0.18146525 0.18169067 0.17873513\n",
      " 0.17715717 0.18827802 0.18249217 0.177104   0.17798653 0.17825145\n",
      " 0.17807108 0.17761144 0.17699242 0.17628837 0.17554088 0.17477146\n",
      " 0.17399116 0.17320596 0.17241976 0.17163552]\n",
      "13 day output [[0.17085612]]\n",
      "14 day input [0.11724483 0.11887289 0.12485911 0.12090169 0.11829681 0.10552286\n",
      " 0.10697558 0.10339386 0.10567314 0.10507201 0.09823419 0.09041954\n",
      " 0.09164684 0.0977082  0.10016281 0.10038823 0.09650595 0.0878397\n",
      " 0.09014402 0.08681277 0.08969317 0.08090169 0.08583594 0.08806512\n",
      " 0.09129618 0.09031935 0.09009393 0.08683782 0.085335   0.09247339\n",
      " 0.09517846 0.09946149 0.10499687 0.10624922 0.10680025 0.10482154\n",
      " 0.10469631 0.1063995  0.10522229 0.11453976 0.10760175 0.10549781\n",
      " 0.10815279 0.11183469 0.1105072  0.1113087  0.10920476 0.1101315\n",
      " 0.10289292 0.10276769 0.10807765 0.10810269 0.11060739 0.11684408\n",
      " 0.12781465 0.13452724 0.13570445 0.13668128 0.13800877 0.12515967\n",
      " 0.13375078 0.14642455 0.14509706 0.14256731 0.1377583  0.14647464\n",
      " 0.16115216 0.17092048 0.16961803 0.181866   0.17257358 0.16904195\n",
      " 0.18149029 0.16385723 0.16105197 0.15757044 0.16568566 0.17232311\n",
      " 0.17392611 0.18407013 0.18146525 0.18169067 0.17873513 0.17715717\n",
      " 0.18827802 0.18249217 0.177104   0.17798653 0.17825145 0.17807108\n",
      " 0.17761144 0.17699242 0.17628837 0.17554088 0.17477146 0.17399116\n",
      " 0.17320596 0.17241976 0.17163552 0.17085612]\n",
      "14 day output [[0.17008384]]\n",
      "15 day input [0.11887289 0.12485911 0.12090169 0.11829681 0.10552286 0.10697558\n",
      " 0.10339386 0.10567314 0.10507201 0.09823419 0.09041954 0.09164684\n",
      " 0.0977082  0.10016281 0.10038823 0.09650595 0.0878397  0.09014402\n",
      " 0.08681277 0.08969317 0.08090169 0.08583594 0.08806512 0.09129618\n",
      " 0.09031935 0.09009393 0.08683782 0.085335   0.09247339 0.09517846\n",
      " 0.09946149 0.10499687 0.10624922 0.10680025 0.10482154 0.10469631\n",
      " 0.1063995  0.10522229 0.11453976 0.10760175 0.10549781 0.10815279\n",
      " 0.11183469 0.1105072  0.1113087  0.10920476 0.1101315  0.10289292\n",
      " 0.10276769 0.10807765 0.10810269 0.11060739 0.11684408 0.12781465\n",
      " 0.13452724 0.13570445 0.13668128 0.13800877 0.12515967 0.13375078\n",
      " 0.14642455 0.14509706 0.14256731 0.1377583  0.14647464 0.16115216\n",
      " 0.17092048 0.16961803 0.181866   0.17257358 0.16904195 0.18149029\n",
      " 0.16385723 0.16105197 0.15757044 0.16568566 0.17232311 0.17392611\n",
      " 0.18407013 0.18146525 0.18169067 0.17873513 0.17715717 0.18827802\n",
      " 0.18249217 0.177104   0.17798653 0.17825145 0.17807108 0.17761144\n",
      " 0.17699242 0.17628837 0.17554088 0.17477146 0.17399116 0.17320596\n",
      " 0.17241976 0.17163552 0.17085612 0.17008384]\n",
      "15 day output [[0.1693207]]\n",
      "16 day input [0.12485911 0.12090169 0.11829681 0.10552286 0.10697558 0.10339386\n",
      " 0.10567314 0.10507201 0.09823419 0.09041954 0.09164684 0.0977082\n",
      " 0.10016281 0.10038823 0.09650595 0.0878397  0.09014402 0.08681277\n",
      " 0.08969317 0.08090169 0.08583594 0.08806512 0.09129618 0.09031935\n",
      " 0.09009393 0.08683782 0.085335   0.09247339 0.09517846 0.09946149\n",
      " 0.10499687 0.10624922 0.10680025 0.10482154 0.10469631 0.1063995\n",
      " 0.10522229 0.11453976 0.10760175 0.10549781 0.10815279 0.11183469\n",
      " 0.1105072  0.1113087  0.10920476 0.1101315  0.10289292 0.10276769\n",
      " 0.10807765 0.10810269 0.11060739 0.11684408 0.12781465 0.13452724\n",
      " 0.13570445 0.13668128 0.13800877 0.12515967 0.13375078 0.14642455\n",
      " 0.14509706 0.14256731 0.1377583  0.14647464 0.16115216 0.17092048\n",
      " 0.16961803 0.181866   0.17257358 0.16904195 0.18149029 0.16385723\n",
      " 0.16105197 0.15757044 0.16568566 0.17232311 0.17392611 0.18407013\n",
      " 0.18146525 0.18169067 0.17873513 0.17715717 0.18827802 0.18249217\n",
      " 0.177104   0.17798653 0.17825145 0.17807108 0.17761144 0.17699242\n",
      " 0.17628837 0.17554088 0.17477146 0.17399116 0.17320596 0.17241976\n",
      " 0.17163552 0.17085612 0.17008384 0.1693207 ]\n",
      "16 day output [[0.16856855]]\n",
      "17 day input [0.12090169 0.11829681 0.10552286 0.10697558 0.10339386 0.10567314\n",
      " 0.10507201 0.09823419 0.09041954 0.09164684 0.0977082  0.10016281\n",
      " 0.10038823 0.09650595 0.0878397  0.09014402 0.08681277 0.08969317\n",
      " 0.08090169 0.08583594 0.08806512 0.09129618 0.09031935 0.09009393\n",
      " 0.08683782 0.085335   0.09247339 0.09517846 0.09946149 0.10499687\n",
      " 0.10624922 0.10680025 0.10482154 0.10469631 0.1063995  0.10522229\n",
      " 0.11453976 0.10760175 0.10549781 0.10815279 0.11183469 0.1105072\n",
      " 0.1113087  0.10920476 0.1101315  0.10289292 0.10276769 0.10807765\n",
      " 0.10810269 0.11060739 0.11684408 0.12781465 0.13452724 0.13570445\n",
      " 0.13668128 0.13800877 0.12515967 0.13375078 0.14642455 0.14509706\n",
      " 0.14256731 0.1377583  0.14647464 0.16115216 0.17092048 0.16961803\n",
      " 0.181866   0.17257358 0.16904195 0.18149029 0.16385723 0.16105197\n",
      " 0.15757044 0.16568566 0.17232311 0.17392611 0.18407013 0.18146525\n",
      " 0.18169067 0.17873513 0.17715717 0.18827802 0.18249217 0.177104\n",
      " 0.17798653 0.17825145 0.17807108 0.17761144 0.17699242 0.17628837\n",
      " 0.17554088 0.17477146 0.17399116 0.17320596 0.17241976 0.17163552\n",
      " 0.17085612 0.17008384 0.1693207  0.16856855]\n",
      "17 day output [[0.16782846]]\n",
      "18 day input [0.11829681 0.10552286 0.10697558 0.10339386 0.10567314 0.10507201\n",
      " 0.09823419 0.09041954 0.09164684 0.0977082  0.10016281 0.10038823\n",
      " 0.09650595 0.0878397  0.09014402 0.08681277 0.08969317 0.08090169\n",
      " 0.08583594 0.08806512 0.09129618 0.09031935 0.09009393 0.08683782\n",
      " 0.085335   0.09247339 0.09517846 0.09946149 0.10499687 0.10624922\n",
      " 0.10680025 0.10482154 0.10469631 0.1063995  0.10522229 0.11453976\n",
      " 0.10760175 0.10549781 0.10815279 0.11183469 0.1105072  0.1113087\n",
      " 0.10920476 0.1101315  0.10289292 0.10276769 0.10807765 0.10810269\n",
      " 0.11060739 0.11684408 0.12781465 0.13452724 0.13570445 0.13668128\n",
      " 0.13800877 0.12515967 0.13375078 0.14642455 0.14509706 0.14256731\n",
      " 0.1377583  0.14647464 0.16115216 0.17092048 0.16961803 0.181866\n",
      " 0.17257358 0.16904195 0.18149029 0.16385723 0.16105197 0.15757044\n",
      " 0.16568566 0.17232311 0.17392611 0.18407013 0.18146525 0.18169067\n",
      " 0.17873513 0.17715717 0.18827802 0.18249217 0.177104   0.17798653\n",
      " 0.17825145 0.17807108 0.17761144 0.17699242 0.17628837 0.17554088\n",
      " 0.17477146 0.17399116 0.17320596 0.17241976 0.17163552 0.17085612\n",
      " 0.17008384 0.1693207  0.16856855 0.16782846]\n",
      "18 day output [[0.16710149]]\n",
      "19 day input [0.10552286 0.10697558 0.10339386 0.10567314 0.10507201 0.09823419\n",
      " 0.09041954 0.09164684 0.0977082  0.10016281 0.10038823 0.09650595\n",
      " 0.0878397  0.09014402 0.08681277 0.08969317 0.08090169 0.08583594\n",
      " 0.08806512 0.09129618 0.09031935 0.09009393 0.08683782 0.085335\n",
      " 0.09247339 0.09517846 0.09946149 0.10499687 0.10624922 0.10680025\n",
      " 0.10482154 0.10469631 0.1063995  0.10522229 0.11453976 0.10760175\n",
      " 0.10549781 0.10815279 0.11183469 0.1105072  0.1113087  0.10920476\n",
      " 0.1101315  0.10289292 0.10276769 0.10807765 0.10810269 0.11060739\n",
      " 0.11684408 0.12781465 0.13452724 0.13570445 0.13668128 0.13800877\n",
      " 0.12515967 0.13375078 0.14642455 0.14509706 0.14256731 0.1377583\n",
      " 0.14647464 0.16115216 0.17092048 0.16961803 0.181866   0.17257358\n",
      " 0.16904195 0.18149029 0.16385723 0.16105197 0.15757044 0.16568566\n",
      " 0.17232311 0.17392611 0.18407013 0.18146525 0.18169067 0.17873513\n",
      " 0.17715717 0.18827802 0.18249217 0.177104   0.17798653 0.17825145\n",
      " 0.17807108 0.17761144 0.17699242 0.17628837 0.17554088 0.17477146\n",
      " 0.17399116 0.17320596 0.17241976 0.17163552 0.17085612 0.17008384\n",
      " 0.1693207  0.16856855 0.16782846 0.16710149]\n",
      "19 day output [[0.16638806]]\n",
      "20 day input [0.10697558 0.10339386 0.10567314 0.10507201 0.09823419 0.09041954\n",
      " 0.09164684 0.0977082  0.10016281 0.10038823 0.09650595 0.0878397\n",
      " 0.09014402 0.08681277 0.08969317 0.08090169 0.08583594 0.08806512\n",
      " 0.09129618 0.09031935 0.09009393 0.08683782 0.085335   0.09247339\n",
      " 0.09517846 0.09946149 0.10499687 0.10624922 0.10680025 0.10482154\n",
      " 0.10469631 0.1063995  0.10522229 0.11453976 0.10760175 0.10549781\n",
      " 0.10815279 0.11183469 0.1105072  0.1113087  0.10920476 0.1101315\n",
      " 0.10289292 0.10276769 0.10807765 0.10810269 0.11060739 0.11684408\n",
      " 0.12781465 0.13452724 0.13570445 0.13668128 0.13800877 0.12515967\n",
      " 0.13375078 0.14642455 0.14509706 0.14256731 0.1377583  0.14647464\n",
      " 0.16115216 0.17092048 0.16961803 0.181866   0.17257358 0.16904195\n",
      " 0.18149029 0.16385723 0.16105197 0.15757044 0.16568566 0.17232311\n",
      " 0.17392611 0.18407013 0.18146525 0.18169067 0.17873513 0.17715717\n",
      " 0.18827802 0.18249217 0.177104   0.17798653 0.17825145 0.17807108\n",
      " 0.17761144 0.17699242 0.17628837 0.17554088 0.17477146 0.17399116\n",
      " 0.17320596 0.17241976 0.17163552 0.17085612 0.17008384 0.1693207\n",
      " 0.16856855 0.16782846 0.16710149 0.16638806]\n",
      "20 day output [[0.16568856]]\n",
      "21 day input [0.10339386 0.10567314 0.10507201 0.09823419 0.09041954 0.09164684\n",
      " 0.0977082  0.10016281 0.10038823 0.09650595 0.0878397  0.09014402\n",
      " 0.08681277 0.08969317 0.08090169 0.08583594 0.08806512 0.09129618\n",
      " 0.09031935 0.09009393 0.08683782 0.085335   0.09247339 0.09517846\n",
      " 0.09946149 0.10499687 0.10624922 0.10680025 0.10482154 0.10469631\n",
      " 0.1063995  0.10522229 0.11453976 0.10760175 0.10549781 0.10815279\n",
      " 0.11183469 0.1105072  0.1113087  0.10920476 0.1101315  0.10289292\n",
      " 0.10276769 0.10807765 0.10810269 0.11060739 0.11684408 0.12781465\n",
      " 0.13452724 0.13570445 0.13668128 0.13800877 0.12515967 0.13375078\n",
      " 0.14642455 0.14509706 0.14256731 0.1377583  0.14647464 0.16115216\n",
      " 0.17092048 0.16961803 0.181866   0.17257358 0.16904195 0.18149029\n",
      " 0.16385723 0.16105197 0.15757044 0.16568566 0.17232311 0.17392611\n",
      " 0.18407013 0.18146525 0.18169067 0.17873513 0.17715717 0.18827802\n",
      " 0.18249217 0.177104   0.17798653 0.17825145 0.17807108 0.17761144\n",
      " 0.17699242 0.17628837 0.17554088 0.17477146 0.17399116 0.17320596\n",
      " 0.17241976 0.17163552 0.17085612 0.17008384 0.1693207  0.16856855\n",
      " 0.16782846 0.16710149 0.16638806 0.16568856]\n",
      "21 day output [[0.16500287]]\n",
      "22 day input [0.10567314 0.10507201 0.09823419 0.09041954 0.09164684 0.0977082\n",
      " 0.10016281 0.10038823 0.09650595 0.0878397  0.09014402 0.08681277\n",
      " 0.08969317 0.08090169 0.08583594 0.08806512 0.09129618 0.09031935\n",
      " 0.09009393 0.08683782 0.085335   0.09247339 0.09517846 0.09946149\n",
      " 0.10499687 0.10624922 0.10680025 0.10482154 0.10469631 0.1063995\n",
      " 0.10522229 0.11453976 0.10760175 0.10549781 0.10815279 0.11183469\n",
      " 0.1105072  0.1113087  0.10920476 0.1101315  0.10289292 0.10276769\n",
      " 0.10807765 0.10810269 0.11060739 0.11684408 0.12781465 0.13452724\n",
      " 0.13570445 0.13668128 0.13800877 0.12515967 0.13375078 0.14642455\n",
      " 0.14509706 0.14256731 0.1377583  0.14647464 0.16115216 0.17092048\n",
      " 0.16961803 0.181866   0.17257358 0.16904195 0.18149029 0.16385723\n",
      " 0.16105197 0.15757044 0.16568566 0.17232311 0.17392611 0.18407013\n",
      " 0.18146525 0.18169067 0.17873513 0.17715717 0.18827802 0.18249217\n",
      " 0.177104   0.17798653 0.17825145 0.17807108 0.17761144 0.17699242\n",
      " 0.17628837 0.17554088 0.17477146 0.17399116 0.17320596 0.17241976\n",
      " 0.17163552 0.17085612 0.17008384 0.1693207  0.16856855 0.16782846\n",
      " 0.16710149 0.16638806 0.16568856 0.16500287]\n",
      "22 day output [[0.16433072]]\n",
      "23 day input [0.10507201 0.09823419 0.09041954 0.09164684 0.0977082  0.10016281\n",
      " 0.10038823 0.09650595 0.0878397  0.09014402 0.08681277 0.08969317\n",
      " 0.08090169 0.08583594 0.08806512 0.09129618 0.09031935 0.09009393\n",
      " 0.08683782 0.085335   0.09247339 0.09517846 0.09946149 0.10499687\n",
      " 0.10624922 0.10680025 0.10482154 0.10469631 0.1063995  0.10522229\n",
      " 0.11453976 0.10760175 0.10549781 0.10815279 0.11183469 0.1105072\n",
      " 0.1113087  0.10920476 0.1101315  0.10289292 0.10276769 0.10807765\n",
      " 0.10810269 0.11060739 0.11684408 0.12781465 0.13452724 0.13570445\n",
      " 0.13668128 0.13800877 0.12515967 0.13375078 0.14642455 0.14509706\n",
      " 0.14256731 0.1377583  0.14647464 0.16115216 0.17092048 0.16961803\n",
      " 0.181866   0.17257358 0.16904195 0.18149029 0.16385723 0.16105197\n",
      " 0.15757044 0.16568566 0.17232311 0.17392611 0.18407013 0.18146525\n",
      " 0.18169067 0.17873513 0.17715717 0.18827802 0.18249217 0.177104\n",
      " 0.17798653 0.17825145 0.17807108 0.17761144 0.17699242 0.17628837\n",
      " 0.17554088 0.17477146 0.17399116 0.17320596 0.17241976 0.17163552\n",
      " 0.17085612 0.17008384 0.1693207  0.16856855 0.16782846 0.16710149\n",
      " 0.16638806 0.16568856 0.16500287 0.16433072]\n",
      "23 day output [[0.16367184]]\n",
      "24 day input [0.09823419 0.09041954 0.09164684 0.0977082  0.10016281 0.10038823\n",
      " 0.09650595 0.0878397  0.09014402 0.08681277 0.08969317 0.08090169\n",
      " 0.08583594 0.08806512 0.09129618 0.09031935 0.09009393 0.08683782\n",
      " 0.085335   0.09247339 0.09517846 0.09946149 0.10499687 0.10624922\n",
      " 0.10680025 0.10482154 0.10469631 0.1063995  0.10522229 0.11453976\n",
      " 0.10760175 0.10549781 0.10815279 0.11183469 0.1105072  0.1113087\n",
      " 0.10920476 0.1101315  0.10289292 0.10276769 0.10807765 0.10810269\n",
      " 0.11060739 0.11684408 0.12781465 0.13452724 0.13570445 0.13668128\n",
      " 0.13800877 0.12515967 0.13375078 0.14642455 0.14509706 0.14256731\n",
      " 0.1377583  0.14647464 0.16115216 0.17092048 0.16961803 0.181866\n",
      " 0.17257358 0.16904195 0.18149029 0.16385723 0.16105197 0.15757044\n",
      " 0.16568566 0.17232311 0.17392611 0.18407013 0.18146525 0.18169067\n",
      " 0.17873513 0.17715717 0.18827802 0.18249217 0.177104   0.17798653\n",
      " 0.17825145 0.17807108 0.17761144 0.17699242 0.17628837 0.17554088\n",
      " 0.17477146 0.17399116 0.17320596 0.17241976 0.17163552 0.17085612\n",
      " 0.17008384 0.1693207  0.16856855 0.16782846 0.16710149 0.16638806\n",
      " 0.16568856 0.16500287 0.16433072 0.16367184]\n",
      "24 day output [[0.16302562]]\n",
      "25 day input [0.09041954 0.09164684 0.0977082  0.10016281 0.10038823 0.09650595\n",
      " 0.0878397  0.09014402 0.08681277 0.08969317 0.08090169 0.08583594\n",
      " 0.08806512 0.09129618 0.09031935 0.09009393 0.08683782 0.085335\n",
      " 0.09247339 0.09517846 0.09946149 0.10499687 0.10624922 0.10680025\n",
      " 0.10482154 0.10469631 0.1063995  0.10522229 0.11453976 0.10760175\n",
      " 0.10549781 0.10815279 0.11183469 0.1105072  0.1113087  0.10920476\n",
      " 0.1101315  0.10289292 0.10276769 0.10807765 0.10810269 0.11060739\n",
      " 0.11684408 0.12781465 0.13452724 0.13570445 0.13668128 0.13800877\n",
      " 0.12515967 0.13375078 0.14642455 0.14509706 0.14256731 0.1377583\n",
      " 0.14647464 0.16115216 0.17092048 0.16961803 0.181866   0.17257358\n",
      " 0.16904195 0.18149029 0.16385723 0.16105197 0.15757044 0.16568566\n",
      " 0.17232311 0.17392611 0.18407013 0.18146525 0.18169067 0.17873513\n",
      " 0.17715717 0.18827802 0.18249217 0.177104   0.17798653 0.17825145\n",
      " 0.17807108 0.17761144 0.17699242 0.17628837 0.17554088 0.17477146\n",
      " 0.17399116 0.17320596 0.17241976 0.17163552 0.17085612 0.17008384\n",
      " 0.1693207  0.16856855 0.16782846 0.16710149 0.16638806 0.16568856\n",
      " 0.16500287 0.16433072 0.16367184 0.16302562]\n",
      "25 day output [[0.16239142]]\n",
      "26 day input [0.09164684 0.0977082  0.10016281 0.10038823 0.09650595 0.0878397\n",
      " 0.09014402 0.08681277 0.08969317 0.08090169 0.08583594 0.08806512\n",
      " 0.09129618 0.09031935 0.09009393 0.08683782 0.085335   0.09247339\n",
      " 0.09517846 0.09946149 0.10499687 0.10624922 0.10680025 0.10482154\n",
      " 0.10469631 0.1063995  0.10522229 0.11453976 0.10760175 0.10549781\n",
      " 0.10815279 0.11183469 0.1105072  0.1113087  0.10920476 0.1101315\n",
      " 0.10289292 0.10276769 0.10807765 0.10810269 0.11060739 0.11684408\n",
      " 0.12781465 0.13452724 0.13570445 0.13668128 0.13800877 0.12515967\n",
      " 0.13375078 0.14642455 0.14509706 0.14256731 0.1377583  0.14647464\n",
      " 0.16115216 0.17092048 0.16961803 0.181866   0.17257358 0.16904195\n",
      " 0.18149029 0.16385723 0.16105197 0.15757044 0.16568566 0.17232311\n",
      " 0.17392611 0.18407013 0.18146525 0.18169067 0.17873513 0.17715717\n",
      " 0.18827802 0.18249217 0.177104   0.17798653 0.17825145 0.17807108\n",
      " 0.17761144 0.17699242 0.17628837 0.17554088 0.17477146 0.17399116\n",
      " 0.17320596 0.17241976 0.17163552 0.17085612 0.17008384 0.1693207\n",
      " 0.16856855 0.16782846 0.16710149 0.16638806 0.16568856 0.16500287\n",
      " 0.16433072 0.16367184 0.16302562 0.16239142]\n",
      "26 day output [[0.16176863]]\n",
      "27 day input [0.0977082  0.10016281 0.10038823 0.09650595 0.0878397  0.09014402\n",
      " 0.08681277 0.08969317 0.08090169 0.08583594 0.08806512 0.09129618\n",
      " 0.09031935 0.09009393 0.08683782 0.085335   0.09247339 0.09517846\n",
      " 0.09946149 0.10499687 0.10624922 0.10680025 0.10482154 0.10469631\n",
      " 0.1063995  0.10522229 0.11453976 0.10760175 0.10549781 0.10815279\n",
      " 0.11183469 0.1105072  0.1113087  0.10920476 0.1101315  0.10289292\n",
      " 0.10276769 0.10807765 0.10810269 0.11060739 0.11684408 0.12781465\n",
      " 0.13452724 0.13570445 0.13668128 0.13800877 0.12515967 0.13375078\n",
      " 0.14642455 0.14509706 0.14256731 0.1377583  0.14647464 0.16115216\n",
      " 0.17092048 0.16961803 0.181866   0.17257358 0.16904195 0.18149029\n",
      " 0.16385723 0.16105197 0.15757044 0.16568566 0.17232311 0.17392611\n",
      " 0.18407013 0.18146525 0.18169067 0.17873513 0.17715717 0.18827802\n",
      " 0.18249217 0.177104   0.17798653 0.17825145 0.17807108 0.17761144\n",
      " 0.17699242 0.17628837 0.17554088 0.17477146 0.17399116 0.17320596\n",
      " 0.17241976 0.17163552 0.17085612 0.17008384 0.1693207  0.16856855\n",
      " 0.16782846 0.16710149 0.16638806 0.16568856 0.16500287 0.16433072\n",
      " 0.16367184 0.16302562 0.16239142 0.16176863]\n",
      "27 day output [[0.16115645]]\n",
      "28 day input [0.10016281 0.10038823 0.09650595 0.0878397  0.09014402 0.08681277\n",
      " 0.08969317 0.08090169 0.08583594 0.08806512 0.09129618 0.09031935\n",
      " 0.09009393 0.08683782 0.085335   0.09247339 0.09517846 0.09946149\n",
      " 0.10499687 0.10624922 0.10680025 0.10482154 0.10469631 0.1063995\n",
      " 0.10522229 0.11453976 0.10760175 0.10549781 0.10815279 0.11183469\n",
      " 0.1105072  0.1113087  0.10920476 0.1101315  0.10289292 0.10276769\n",
      " 0.10807765 0.10810269 0.11060739 0.11684408 0.12781465 0.13452724\n",
      " 0.13570445 0.13668128 0.13800877 0.12515967 0.13375078 0.14642455\n",
      " 0.14509706 0.14256731 0.1377583  0.14647464 0.16115216 0.17092048\n",
      " 0.16961803 0.181866   0.17257358 0.16904195 0.18149029 0.16385723\n",
      " 0.16105197 0.15757044 0.16568566 0.17232311 0.17392611 0.18407013\n",
      " 0.18146525 0.18169067 0.17873513 0.17715717 0.18827802 0.18249217\n",
      " 0.177104   0.17798653 0.17825145 0.17807108 0.17761144 0.17699242\n",
      " 0.17628837 0.17554088 0.17477146 0.17399116 0.17320596 0.17241976\n",
      " 0.17163552 0.17085612 0.17008384 0.1693207  0.16856855 0.16782846\n",
      " 0.16710149 0.16638806 0.16568856 0.16500287 0.16433072 0.16367184\n",
      " 0.16302562 0.16239142 0.16176863 0.16115645]\n",
      "28 day output [[0.16055425]]\n",
      "29 day input [0.10038823 0.09650595 0.0878397  0.09014402 0.08681277 0.08969317\n",
      " 0.08090169 0.08583594 0.08806512 0.09129618 0.09031935 0.09009393\n",
      " 0.08683782 0.085335   0.09247339 0.09517846 0.09946149 0.10499687\n",
      " 0.10624922 0.10680025 0.10482154 0.10469631 0.1063995  0.10522229\n",
      " 0.11453976 0.10760175 0.10549781 0.10815279 0.11183469 0.1105072\n",
      " 0.1113087  0.10920476 0.1101315  0.10289292 0.10276769 0.10807765\n",
      " 0.10810269 0.11060739 0.11684408 0.12781465 0.13452724 0.13570445\n",
      " 0.13668128 0.13800877 0.12515967 0.13375078 0.14642455 0.14509706\n",
      " 0.14256731 0.1377583  0.14647464 0.16115216 0.17092048 0.16961803\n",
      " 0.181866   0.17257358 0.16904195 0.18149029 0.16385723 0.16105197\n",
      " 0.15757044 0.16568566 0.17232311 0.17392611 0.18407013 0.18146525\n",
      " 0.18169067 0.17873513 0.17715717 0.18827802 0.18249217 0.177104\n",
      " 0.17798653 0.17825145 0.17807108 0.17761144 0.17699242 0.17628837\n",
      " 0.17554088 0.17477146 0.17399116 0.17320596 0.17241976 0.17163552\n",
      " 0.17085612 0.17008384 0.1693207  0.16856855 0.16782846 0.16710149\n",
      " 0.16638806 0.16568856 0.16500287 0.16433072 0.16367184 0.16302562\n",
      " 0.16239142 0.16176863 0.16115645 0.16055425]\n",
      "29 day output [[0.15996109]]\n",
      "[[0.17710399627685547], [0.1779865324497223], [0.1782514452934265], [0.17807108163833618], [0.17761144042015076], [0.17699241638183594], [0.17628836631774902], [0.17554087936878204], [0.17477145791053772], [0.1739911586046219], [0.17320595681667328], [0.17241975665092468], [0.17163552343845367], [0.17085611820220947], [0.17008383572101593], [0.1693207025527954], [0.16856855154037476], [0.16782845556735992], [0.16710148751735687], [0.16638806462287903], [0.16568855941295624], [0.16500286757946014], [0.16433072090148926], [0.1636718362569809], [0.1630256175994873], [0.16239142417907715], [0.16176863014698029], [0.16115644574165344], [0.16055424511432648], [0.15996108949184418]]\n"
     ]
    }
   ],
   "source": [
    "# demonstrate prediction for next 30 days\n",
    "lst_output=[]\n",
    "n_steps=100\n",
    "i=0\n",
    "while(i<30):\n",
    "    \n",
    "    if(len(temp_input)>100):\n",
    "        #print(temp_input)\n",
    "        x_input=np.array(temp_input[1:])\n",
    "        print(\"{} day input {}\".format(i,x_input))\n",
    "        x_input=x_input.reshape(1,-1)\n",
    "        x_input = x_input.reshape((1, n_steps, 1))\n",
    "        #print(x_input)\n",
    "        yhat = model.predict(x_input, verbose=0)\n",
    "        print(\"{} day output {}\".format(i,yhat))\n",
    "        temp_input.extend(yhat[0].tolist())\n",
    "        temp_input=temp_input[1:]\n",
    "        #print(temp_input)\n",
    "        lst_output.extend(yhat.tolist())\n",
    "        i=i+1\n",
    "    else:\n",
    "        x_input = x_input.reshape((1, n_steps,1))\n",
    "        yhat = model.predict(x_input, verbose=0)\n",
    "        print(yhat[0])\n",
    "        temp_input.extend(yhat[0].tolist())\n",
    "        print(len(temp_input))\n",
    "        lst_output.extend(yhat.tolist())\n",
    "        i=i+1\n",
    "    \n",
    "\n",
    "print(lst_output)"
   ]
  },
  {
   "cell_type": "code",
   "execution_count": 35,
   "metadata": {},
   "outputs": [],
   "source": [
    "day_new=np.arange(1,101)\n",
    "day_pred=np.arange(101,131)"
   ]
  },
  {
   "cell_type": "code",
   "execution_count": 36,
   "metadata": {},
   "outputs": [
    {
     "data": {
      "text/plain": [
       "1258"
      ]
     },
     "execution_count": 36,
     "metadata": {},
     "output_type": "execute_result"
    }
   ],
   "source": [
    "len(df1)"
   ]
  },
  {
   "cell_type": "code",
   "execution_count": 38,
   "metadata": {},
   "outputs": [
    {
     "data": {
      "text/plain": [
       "[<matplotlib.lines.Line2D at 0x7f6bd6f500d0>]"
      ]
     },
     "execution_count": 38,
     "metadata": {},
     "output_type": "execute_result"
    },
    {
     "data": {
      "image/png": "[encoded data removed]",
      "text/plain": [
       "<Figure size 432x288 with 1 Axes>"
      ]
     },
     "metadata": {
      "needs_background": "light"
     },
     "output_type": "display_data"
    }
   ],
   "source": [
    "# Closing price of next 30 days\n",
    "plt.plot(day_new,scaler.inverse_transform(df1[1158:]))\n",
    "plt.plot(day_pred,scaler.inverse_transform(lst_output))"
   ]
  },
  {
   "cell_type": "code",
   "execution_count": 39,
   "metadata": {},
   "outputs": [
    {
     "data": {
      "text/plain": [
       "[<matplotlib.lines.Line2D at 0x7f6c1635efa0>]"
      ]
     },
     "execution_count": 39,
     "metadata": {},
     "output_type": "execute_result"
    },
    {
     "data": {
      "image/png": "[encoded data removed]",
      "text/plain": [
       "<Figure size 432x288 with 1 Axes>"
      ]
     },
     "metadata": {
      "needs_background": "light"
     },
     "output_type": "display_data"
    }
   ],
   "source": [
    "# Training + Testing Closing Prices\n",
    "df3=df1.tolist()\n",
    "df3.extend(lst_output)\n",
    "plt.plot(df3[1200:])"
   ]
  },
  {
   "cell_type": "code",
   "execution_count": 40,
   "metadata": {},
   "outputs": [],
   "source": [
    "df3=scaler.inverse_transform(df3).tolist()"
   ]
  },
  {
   "cell_type": "code",
   "execution_count": 41,
   "metadata": {},
   "outputs": [
    {
     "data": {
      "text/plain": [
       "[<matplotlib.lines.Line2D at 0x7f6bd6f6f220>]"
      ]
     },
     "execution_count": 41,
     "metadata": {},
     "output_type": "execute_result"
    },
    {
     "data": {
      "image/png": "[encoded data removed]",
      "text/plain": [
       "<Figure size 432x288 with 1 Axes>"
      ]
     },
     "metadata": {
      "needs_background": "light"
     },
     "output_type": "display_data"
    }
   ],
   "source": [
    "plt.plot(df3)"
   ]
  },
  {
   "cell_type": "code",
   "execution_count": null,
   "metadata": {},
   "outputs": [],
   "source": []
  }
 ],
 "metadata": {
  "kernelspec": {
   "display_name": "Python 3",
   "language": "python",
   "name": "python3"
  },
  "language_info": {
   "codemirror_mode": {
    "name": "ipython",
    "version": 3
   },
   "file_extension": ".py",
   "mimetype": "text/x-python",
   "name": "python",
   "nbconvert_exporter": "python",
   "pygments_lexer": "ipython3",
   "version": "3.8.10"
  }
 },
 "nbformat": 4,
 "nbformat_minor": 4
}
